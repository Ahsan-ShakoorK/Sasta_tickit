{
 "cells": [
  {
   "cell_type": "markdown",
   "id": "1e01ca33",
   "metadata": {},
   "source": [
    "## Sastaticket Datathon Assignment\n",
    "## Project: Flight Price Prediction\n",
    "## Submitted By: Jackay Lohana"
   ]
  },
  {
   "cell_type": "markdown",
   "id": "62dd7c2d",
   "metadata": {},
   "source": [
    "### Importing libraries"
   ]
  },
  {
   "cell_type": "code",
   "execution_count": 1,
   "id": "972b4cfb",
   "metadata": {},
   "outputs": [],
   "source": [
    "# importing libraries\n",
    "import numpy as np\n",
    "import pandas as pd\n",
    "import seaborn as sns\n",
    "import matplotlib.pyplot as plt"
   ]
  },
  {
   "cell_type": "markdown",
   "id": "8249821d",
   "metadata": {},
   "source": [
    "### Loading datasets"
   ]
  },
  {
   "cell_type": "code",
   "execution_count": 8,
   "id": "ac017075",
   "metadata": {},
   "outputs": [],
   "source": [
    "# reading data\n",
    "df_x=pd.read_csv(\"X_train.csv\")\n",
    "df_y=pd.read_csv(\"y_train.csv\")"
   ]
  },
  {
   "cell_type": "code",
   "execution_count": 3,
   "id": "45186526",
   "metadata": {},
   "outputs": [
    {
     "data": {
      "text/plain": [
       "((21776590, 11), (21776590, 2))"
      ]
     },
     "execution_count": 3,
     "metadata": {},
     "output_type": "execute_result"
    }
   ],
   "source": [
    "# checking shape of data\n",
    "df_x.shape, df_y.shape, df_test"
   ]
  },
  {
   "cell_type": "markdown",
   "id": "a72091f6",
   "metadata": {},
   "source": [
    "1. Y dataset has almost 5 times more rows than that of X dataset.\n",
    "2.  X dataset has 10 columns whereas Y dataset has 2 columns.\n",
    "3.  Now, we will concocate these two datasets into one dataset and take only target column from y dataset.\n"
   ]
  },
  {
   "cell_type": "code",
   "execution_count": 4,
   "id": "df74cef2",
   "metadata": {},
   "outputs": [
    {
     "data": {
      "text/html": [
       "<div>\n",
       "<style scoped>\n",
       "    .dataframe tbody tr th:only-of-type {\n",
       "        vertical-align: middle;\n",
       "    }\n",
       "\n",
       "    .dataframe tbody tr th {\n",
       "        vertical-align: top;\n",
       "    }\n",
       "\n",
       "    .dataframe thead th {\n",
       "        text-align: right;\n",
       "    }\n",
       "</style>\n",
       "<table border=\"1\" class=\"dataframe\">\n",
       "  <thead>\n",
       "    <tr style=\"text-align: right;\">\n",
       "      <th></th>\n",
       "      <th>Unnamed: 0</th>\n",
       "      <th>f1</th>\n",
       "      <th>f2</th>\n",
       "      <th>f3</th>\n",
       "      <th>f4</th>\n",
       "      <th>f5</th>\n",
       "      <th>f6</th>\n",
       "      <th>f7</th>\n",
       "      <th>f8</th>\n",
       "      <th>f9</th>\n",
       "      <th>f10</th>\n",
       "    </tr>\n",
       "  </thead>\n",
       "  <tbody>\n",
       "    <tr>\n",
       "      <th>0</th>\n",
       "      <td>0</td>\n",
       "      <td>2020-12-31 09:46:17.463002+00:00</td>\n",
       "      <td>x</td>\n",
       "      <td>y</td>\n",
       "      <td>2021-01-10 05:00:00+00:00</td>\n",
       "      <td>2021-01-10 07:00:00+00:00</td>\n",
       "      <td>gamma</td>\n",
       "      <td>True</td>\n",
       "      <td>0.0</td>\n",
       "      <td>0</td>\n",
       "      <td>c-2</td>\n",
       "    </tr>\n",
       "    <tr>\n",
       "      <th>1</th>\n",
       "      <td>1</td>\n",
       "      <td>2020-12-31 09:46:17.463002+00:00</td>\n",
       "      <td>x</td>\n",
       "      <td>y</td>\n",
       "      <td>2021-01-10 05:00:00+00:00</td>\n",
       "      <td>2021-01-10 07:00:00+00:00</td>\n",
       "      <td>gamma</td>\n",
       "      <td>True</td>\n",
       "      <td>32.0</td>\n",
       "      <td>1</td>\n",
       "      <td>c-2</td>\n",
       "    </tr>\n",
       "    <tr>\n",
       "      <th>2</th>\n",
       "      <td>2</td>\n",
       "      <td>2020-12-31 09:46:17.463002+00:00</td>\n",
       "      <td>x</td>\n",
       "      <td>y</td>\n",
       "      <td>2021-01-10 11:00:00+00:00</td>\n",
       "      <td>2021-01-10 13:00:00+00:00</td>\n",
       "      <td>gamma</td>\n",
       "      <td>True</td>\n",
       "      <td>32.0</td>\n",
       "      <td>1</td>\n",
       "      <td>c-4</td>\n",
       "    </tr>\n",
       "    <tr>\n",
       "      <th>3</th>\n",
       "      <td>3</td>\n",
       "      <td>2020-12-31 09:46:17.463002+00:00</td>\n",
       "      <td>x</td>\n",
       "      <td>y</td>\n",
       "      <td>2021-01-10 11:00:00+00:00</td>\n",
       "      <td>2021-01-10 13:00:00+00:00</td>\n",
       "      <td>gamma</td>\n",
       "      <td>True</td>\n",
       "      <td>32.0</td>\n",
       "      <td>2</td>\n",
       "      <td>c-4</td>\n",
       "    </tr>\n",
       "    <tr>\n",
       "      <th>4</th>\n",
       "      <td>4</td>\n",
       "      <td>2020-12-31 09:46:18.191119+00:00</td>\n",
       "      <td>x</td>\n",
       "      <td>y</td>\n",
       "      <td>2021-01-25 11:00:00+00:00</td>\n",
       "      <td>2021-01-25 12:55:00+00:00</td>\n",
       "      <td>beta</td>\n",
       "      <td>False</td>\n",
       "      <td>20.0</td>\n",
       "      <td>0</td>\n",
       "      <td>b-69</td>\n",
       "    </tr>\n",
       "  </tbody>\n",
       "</table>\n",
       "</div>"
      ],
      "text/plain": [
       "   Unnamed: 0                                f1 f2 f3  \\\n",
       "0           0  2020-12-31 09:46:17.463002+00:00  x  y   \n",
       "1           1  2020-12-31 09:46:17.463002+00:00  x  y   \n",
       "2           2  2020-12-31 09:46:17.463002+00:00  x  y   \n",
       "3           3  2020-12-31 09:46:17.463002+00:00  x  y   \n",
       "4           4  2020-12-31 09:46:18.191119+00:00  x  y   \n",
       "\n",
       "                          f4                         f5     f6     f7    f8  \\\n",
       "0  2021-01-10 05:00:00+00:00  2021-01-10 07:00:00+00:00  gamma   True   0.0   \n",
       "1  2021-01-10 05:00:00+00:00  2021-01-10 07:00:00+00:00  gamma   True  32.0   \n",
       "2  2021-01-10 11:00:00+00:00  2021-01-10 13:00:00+00:00  gamma   True  32.0   \n",
       "3  2021-01-10 11:00:00+00:00  2021-01-10 13:00:00+00:00  gamma   True  32.0   \n",
       "4  2021-01-25 11:00:00+00:00  2021-01-25 12:55:00+00:00   beta  False  20.0   \n",
       "\n",
       "   f9   f10  \n",
       "0   0   c-2  \n",
       "1   1   c-2  \n",
       "2   1   c-4  \n",
       "3   2   c-4  \n",
       "4   0  b-69  "
      ]
     },
     "execution_count": 4,
     "metadata": {},
     "output_type": "execute_result"
    }
   ],
   "source": [
    "df_x.head()"
   ]
  },
  {
   "cell_type": "code",
   "execution_count": 5,
   "id": "0ffc761f",
   "metadata": {},
   "outputs": [
    {
     "data": {
      "text/html": [
       "<div>\n",
       "<style scoped>\n",
       "    .dataframe tbody tr th:only-of-type {\n",
       "        vertical-align: middle;\n",
       "    }\n",
       "\n",
       "    .dataframe tbody tr th {\n",
       "        vertical-align: top;\n",
       "    }\n",
       "\n",
       "    .dataframe thead th {\n",
       "        text-align: right;\n",
       "    }\n",
       "</style>\n",
       "<table border=\"1\" class=\"dataframe\">\n",
       "  <thead>\n",
       "    <tr style=\"text-align: right;\">\n",
       "      <th></th>\n",
       "      <th>Unnamed: 0</th>\n",
       "      <th>target</th>\n",
       "    </tr>\n",
       "  </thead>\n",
       "  <tbody>\n",
       "    <tr>\n",
       "      <th>0</th>\n",
       "      <td>0</td>\n",
       "      <td>7400.0</td>\n",
       "    </tr>\n",
       "    <tr>\n",
       "      <th>1</th>\n",
       "      <td>1</td>\n",
       "      <td>8650.0</td>\n",
       "    </tr>\n",
       "    <tr>\n",
       "      <th>2</th>\n",
       "      <td>2</td>\n",
       "      <td>9150.0</td>\n",
       "    </tr>\n",
       "    <tr>\n",
       "      <th>3</th>\n",
       "      <td>3</td>\n",
       "      <td>10400.0</td>\n",
       "    </tr>\n",
       "    <tr>\n",
       "      <th>4</th>\n",
       "      <td>4</td>\n",
       "      <td>8697.0</td>\n",
       "    </tr>\n",
       "  </tbody>\n",
       "</table>\n",
       "</div>"
      ],
      "text/plain": [
       "   Unnamed: 0   target\n",
       "0           0   7400.0\n",
       "1           1   8650.0\n",
       "2           2   9150.0\n",
       "3           3  10400.0\n",
       "4           4   8697.0"
      ]
     },
     "execution_count": 5,
     "metadata": {},
     "output_type": "execute_result"
    }
   ],
   "source": [
    "df_y.head()"
   ]
  },
  {
   "cell_type": "code",
   "execution_count": 9,
   "id": "dd567112",
   "metadata": {},
   "outputs": [],
   "source": [
    "# Removing unnamaed columns from both train datasets\n",
    "#df_x = df_x.drop(['Unnamed'])\n",
    "#df_x.shape"
   ]
  },
  {
   "cell_type": "code",
   "execution_count": 5,
   "id": "d2543a07",
   "metadata": {},
   "outputs": [
    {
     "data": {
      "text/plain": [
       "(21776590, 12)"
      ]
     },
     "execution_count": 5,
     "metadata": {},
     "output_type": "execute_result"
    }
   ],
   "source": [
    "# Concocating x and y dataset into one dataset, also taking only target column adn dropping unnamed column from y_train dataset.\n",
    "df = pd.concat([df_x, df_y[\"target\"]], axis=1)\n",
    "df.shape"
   ]
  },
  {
   "cell_type": "markdown",
   "id": "cc1f1666",
   "metadata": {},
   "source": [
    "Now we have one dataset df containing x and y data, we will perform Exploratory Data Analysis (EDA) on it."
   ]
  },
  {
   "cell_type": "markdown",
   "id": "b9dc5eea",
   "metadata": {},
   "source": [
    "### Exploratory Data Analysis"
   ]
  },
  {
   "cell_type": "code",
   "execution_count": 6,
   "id": "1bad7dcc",
   "metadata": {},
   "outputs": [
    {
     "name": "stdout",
     "output_type": "stream",
     "text": [
      "<class 'pandas.core.frame.DataFrame'>\n",
      "RangeIndex: 21776590 entries, 0 to 21776589\n",
      "Columns: 12 entries, Unnamed: 0 to target\n",
      "dtypes: bool(1), float64(2), int64(2), object(7)\n",
      "memory usage: 10.6 GB\n"
     ]
    }
   ],
   "source": [
    "# checking the usage of memory by dataset\n",
    "df.info(verbose=False, memory_usage=\"deep\")"
   ]
  },
  {
   "cell_type": "markdown",
   "id": "f2c856b8",
   "metadata": {},
   "source": [
    "The original dataset has memory usage of 10.6 GB. We have to perform memory optimization on this dataset."
   ]
  },
  {
   "cell_type": "code",
   "execution_count": 7,
   "id": "6493c4fa",
   "metadata": {},
   "outputs": [
    {
     "data": {
      "text/plain": [
       "Unnamed: 0    0\n",
       "f1            0\n",
       "f2            0\n",
       "f3            0\n",
       "f4            0\n",
       "f5            0\n",
       "f6            0\n",
       "f7            0\n",
       "f8            0\n",
       "f9            0\n",
       "f10           0\n",
       "target        0\n",
       "dtype: int64"
      ]
     },
     "execution_count": 7,
     "metadata": {},
     "output_type": "execute_result"
    }
   ],
   "source": [
    "# checking null values in dataset df\n",
    "df.isnull().sum()"
   ]
  },
  {
   "cell_type": "markdown",
   "id": "d2e9260f",
   "metadata": {},
   "source": [
    "There are no null values in our dataset."
   ]
  },
  {
   "cell_type": "code",
   "execution_count": null,
   "id": "33da0f63",
   "metadata": {},
   "outputs": [],
   "source": []
  },
  {
   "cell_type": "code",
   "execution_count": null,
   "id": "b84abf3b",
   "metadata": {},
   "outputs": [],
   "source": []
  },
  {
   "cell_type": "code",
   "execution_count": 10,
   "id": "6ce83bd7",
   "metadata": {},
   "outputs": [
    {
     "data": {
      "text/html": [
       "<div>\n",
       "<style scoped>\n",
       "    .dataframe tbody tr th:only-of-type {\n",
       "        vertical-align: middle;\n",
       "    }\n",
       "\n",
       "    .dataframe tbody tr th {\n",
       "        vertical-align: top;\n",
       "    }\n",
       "\n",
       "    .dataframe thead th {\n",
       "        text-align: right;\n",
       "    }\n",
       "</style>\n",
       "<table border=\"1\" class=\"dataframe\">\n",
       "  <thead>\n",
       "    <tr style=\"text-align: right;\">\n",
       "      <th></th>\n",
       "      <th>f1</th>\n",
       "      <th>f2</th>\n",
       "      <th>f3</th>\n",
       "      <th>f4</th>\n",
       "      <th>f5</th>\n",
       "      <th>f6</th>\n",
       "      <th>f7</th>\n",
       "      <th>f8</th>\n",
       "      <th>f9</th>\n",
       "      <th>f10</th>\n",
       "      <th>target</th>\n",
       "    </tr>\n",
       "  </thead>\n",
       "  <tbody>\n",
       "    <tr>\n",
       "      <th>1188659</th>\n",
       "      <td>2021-09-08 05:51:56.871081+00:00</td>\n",
       "      <td>x</td>\n",
       "      <td>y</td>\n",
       "      <td>2021-09-30 05:30:00+00:00</td>\n",
       "      <td>2021-09-30 07:30:00+00:00</td>\n",
       "      <td>gamma</td>\n",
       "      <td>True</td>\n",
       "      <td>20.0</td>\n",
       "      <td>2.0</td>\n",
       "      <td>c-2</td>\n",
       "      <td>9405.0</td>\n",
       "    </tr>\n",
       "    <tr>\n",
       "      <th>2447951</th>\n",
       "      <td>2021-09-15 05:04:55.799156+00:00</td>\n",
       "      <td>x</td>\n",
       "      <td>y</td>\n",
       "      <td>2021-11-01 10:35:00+00:00</td>\n",
       "      <td>2021-11-01 12:35:00+00:00</td>\n",
       "      <td>omega</td>\n",
       "      <td>True</td>\n",
       "      <td>20.0</td>\n",
       "      <td>1.0</td>\n",
       "      <td>d-3</td>\n",
       "      <td>8890.0</td>\n",
       "    </tr>\n",
       "    <tr>\n",
       "      <th>2447952</th>\n",
       "      <td>2021-09-15 05:04:55.799156+00:00</td>\n",
       "      <td>x</td>\n",
       "      <td>y</td>\n",
       "      <td>2021-11-01 04:40:00+00:00</td>\n",
       "      <td>2021-11-01 06:40:00+00:00</td>\n",
       "      <td>omega</td>\n",
       "      <td>True</td>\n",
       "      <td>20.0</td>\n",
       "      <td>1.0</td>\n",
       "      <td>d-1</td>\n",
       "      <td>7390.0</td>\n",
       "    </tr>\n",
       "    <tr>\n",
       "      <th>2447997</th>\n",
       "      <td>2021-09-15 05:06:46.957085+00:00</td>\n",
       "      <td>x</td>\n",
       "      <td>y</td>\n",
       "      <td>2021-10-20 10:35:00+00:00</td>\n",
       "      <td>2021-10-20 12:35:00+00:00</td>\n",
       "      <td>omega</td>\n",
       "      <td>True</td>\n",
       "      <td>20.0</td>\n",
       "      <td>1.0</td>\n",
       "      <td>d-3</td>\n",
       "      <td>7390.0</td>\n",
       "    </tr>\n",
       "    <tr>\n",
       "      <th>2447998</th>\n",
       "      <td>2021-09-15 05:06:46.957085+00:00</td>\n",
       "      <td>x</td>\n",
       "      <td>y</td>\n",
       "      <td>2021-10-20 17:05:00+00:00</td>\n",
       "      <td>2021-10-20 19:05:00+00:00</td>\n",
       "      <td>omega</td>\n",
       "      <td>True</td>\n",
       "      <td>20.0</td>\n",
       "      <td>1.0</td>\n",
       "      <td>d-5</td>\n",
       "      <td>8890.0</td>\n",
       "    </tr>\n",
       "    <tr>\n",
       "      <th>...</th>\n",
       "      <td>...</td>\n",
       "      <td>...</td>\n",
       "      <td>...</td>\n",
       "      <td>...</td>\n",
       "      <td>...</td>\n",
       "      <td>...</td>\n",
       "      <td>...</td>\n",
       "      <td>...</td>\n",
       "      <td>...</td>\n",
       "      <td>...</td>\n",
       "      <td>...</td>\n",
       "    </tr>\n",
       "    <tr>\n",
       "      <th>4475512</th>\n",
       "      <td>2021-09-29 12:03:01.509481+00:00</td>\n",
       "      <td>x</td>\n",
       "      <td>y</td>\n",
       "      <td>2021-10-09 17:05:00+00:00</td>\n",
       "      <td>2021-10-09 19:05:00+00:00</td>\n",
       "      <td>omega</td>\n",
       "      <td>True</td>\n",
       "      <td>20.0</td>\n",
       "      <td>1.0</td>\n",
       "      <td>d-5</td>\n",
       "      <td>8605.0</td>\n",
       "    </tr>\n",
       "    <tr>\n",
       "      <th>4475567</th>\n",
       "      <td>2021-09-29 12:03:27.379866+00:00</td>\n",
       "      <td>x</td>\n",
       "      <td>y</td>\n",
       "      <td>2021-10-22 10:50:00+00:00</td>\n",
       "      <td>2021-10-22 12:50:00+00:00</td>\n",
       "      <td>omega</td>\n",
       "      <td>True</td>\n",
       "      <td>20.0</td>\n",
       "      <td>1.0</td>\n",
       "      <td>d-3</td>\n",
       "      <td>8605.0</td>\n",
       "    </tr>\n",
       "    <tr>\n",
       "      <th>4475569</th>\n",
       "      <td>2021-09-29 12:03:27.379866+00:00</td>\n",
       "      <td>x</td>\n",
       "      <td>y</td>\n",
       "      <td>2021-10-22 17:05:00+00:00</td>\n",
       "      <td>2021-10-22 19:05:00+00:00</td>\n",
       "      <td>omega</td>\n",
       "      <td>True</td>\n",
       "      <td>20.0</td>\n",
       "      <td>1.0</td>\n",
       "      <td>d-5</td>\n",
       "      <td>7884.0</td>\n",
       "    </tr>\n",
       "    <tr>\n",
       "      <th>4475644</th>\n",
       "      <td>2021-09-29 12:03:48.831055+00:00</td>\n",
       "      <td>x</td>\n",
       "      <td>y</td>\n",
       "      <td>2021-10-24 17:05:00+00:00</td>\n",
       "      <td>2021-10-24 19:05:00+00:00</td>\n",
       "      <td>omega</td>\n",
       "      <td>True</td>\n",
       "      <td>20.0</td>\n",
       "      <td>1.0</td>\n",
       "      <td>d-5</td>\n",
       "      <td>7884.0</td>\n",
       "    </tr>\n",
       "    <tr>\n",
       "      <th>4475658</th>\n",
       "      <td>2021-09-29 12:03:49.547767+00:00</td>\n",
       "      <td>x</td>\n",
       "      <td>y</td>\n",
       "      <td>2021-10-24 04:40:00+00:00</td>\n",
       "      <td>2021-10-24 06:40:00+00:00</td>\n",
       "      <td>omega</td>\n",
       "      <td>True</td>\n",
       "      <td>20.0</td>\n",
       "      <td>1.0</td>\n",
       "      <td>d-1</td>\n",
       "      <td>7884.0</td>\n",
       "    </tr>\n",
       "  </tbody>\n",
       "</table>\n",
       "<p>16748 rows × 11 columns</p>\n",
       "</div>"
      ],
      "text/plain": [
       "                                       f1 f2 f3                         f4  \\\n",
       "1188659  2021-09-08 05:51:56.871081+00:00  x  y  2021-09-30 05:30:00+00:00   \n",
       "2447951  2021-09-15 05:04:55.799156+00:00  x  y  2021-11-01 10:35:00+00:00   \n",
       "2447952  2021-09-15 05:04:55.799156+00:00  x  y  2021-11-01 04:40:00+00:00   \n",
       "2447997  2021-09-15 05:06:46.957085+00:00  x  y  2021-10-20 10:35:00+00:00   \n",
       "2447998  2021-09-15 05:06:46.957085+00:00  x  y  2021-10-20 17:05:00+00:00   \n",
       "...                                   ... .. ..                        ...   \n",
       "4475512  2021-09-29 12:03:01.509481+00:00  x  y  2021-10-09 17:05:00+00:00   \n",
       "4475567  2021-09-29 12:03:27.379866+00:00  x  y  2021-10-22 10:50:00+00:00   \n",
       "4475569  2021-09-29 12:03:27.379866+00:00  x  y  2021-10-22 17:05:00+00:00   \n",
       "4475644  2021-09-29 12:03:48.831055+00:00  x  y  2021-10-24 17:05:00+00:00   \n",
       "4475658  2021-09-29 12:03:49.547767+00:00  x  y  2021-10-24 04:40:00+00:00   \n",
       "\n",
       "                                f5     f6    f7    f8   f9  f10  target  \n",
       "1188659  2021-09-30 07:30:00+00:00  gamma  True  20.0  2.0  c-2  9405.0  \n",
       "2447951  2021-11-01 12:35:00+00:00  omega  True  20.0  1.0  d-3  8890.0  \n",
       "2447952  2021-11-01 06:40:00+00:00  omega  True  20.0  1.0  d-1  7390.0  \n",
       "2447997  2021-10-20 12:35:00+00:00  omega  True  20.0  1.0  d-3  7390.0  \n",
       "2447998  2021-10-20 19:05:00+00:00  omega  True  20.0  1.0  d-5  8890.0  \n",
       "...                            ...    ...   ...   ...  ...  ...     ...  \n",
       "4475512  2021-10-09 19:05:00+00:00  omega  True  20.0  1.0  d-5  8605.0  \n",
       "4475567  2021-10-22 12:50:00+00:00  omega  True  20.0  1.0  d-3  8605.0  \n",
       "4475569  2021-10-22 19:05:00+00:00  omega  True  20.0  1.0  d-5  7884.0  \n",
       "4475644  2021-10-24 19:05:00+00:00  omega  True  20.0  1.0  d-5  7884.0  \n",
       "4475658  2021-10-24 06:40:00+00:00  omega  True  20.0  1.0  d-1  7884.0  \n",
       "\n",
       "[16748 rows x 11 columns]"
      ]
     },
     "execution_count": 10,
     "metadata": {},
     "output_type": "execute_result"
    }
   ],
   "source": [
    "# finding duplicates\n",
    "df[df.duplicated()]"
   ]
  },
  {
   "cell_type": "code",
   "execution_count": 11,
   "id": "07bf6e8d",
   "metadata": {},
   "outputs": [
    {
     "data": {
      "text/html": [
       "<div>\n",
       "<style scoped>\n",
       "    .dataframe tbody tr th:only-of-type {\n",
       "        vertical-align: middle;\n",
       "    }\n",
       "\n",
       "    .dataframe tbody tr th {\n",
       "        vertical-align: top;\n",
       "    }\n",
       "\n",
       "    .dataframe thead th {\n",
       "        text-align: right;\n",
       "    }\n",
       "</style>\n",
       "<table border=\"1\" class=\"dataframe\">\n",
       "  <thead>\n",
       "    <tr style=\"text-align: right;\">\n",
       "      <th></th>\n",
       "      <th>f1</th>\n",
       "      <th>f2</th>\n",
       "      <th>f3</th>\n",
       "      <th>f4</th>\n",
       "      <th>f5</th>\n",
       "      <th>f6</th>\n",
       "      <th>f7</th>\n",
       "      <th>f8</th>\n",
       "      <th>f9</th>\n",
       "      <th>f10</th>\n",
       "      <th>target</th>\n",
       "    </tr>\n",
       "  </thead>\n",
       "  <tbody>\n",
       "  </tbody>\n",
       "</table>\n",
       "</div>"
      ],
      "text/plain": [
       "Empty DataFrame\n",
       "Columns: [f1, f2, f3, f4, f5, f6, f7, f8, f9, f10, target]\n",
       "Index: []"
      ]
     },
     "execution_count": 11,
     "metadata": {},
     "output_type": "execute_result"
    }
   ],
   "source": [
    "# dropping duplicates\n",
    "df.drop_duplicates(keep=\"first\", inplace= True)\n",
    "df[df.duplicated()]"
   ]
  },
  {
   "cell_type": "code",
   "execution_count": 12,
   "id": "358adb5b",
   "metadata": {},
   "outputs": [
    {
     "data": {
      "text/plain": [
       "f1        897719\n",
       "f2             1\n",
       "f3             1\n",
       "f4          3134\n",
       "f5          3339\n",
       "f6             4\n",
       "f7             1\n",
       "f8             4\n",
       "f9             3\n",
       "f10           19\n",
       "target       753\n",
       "dtype: int64"
      ]
     },
     "execution_count": 12,
     "metadata": {},
     "output_type": "execute_result"
    }
   ],
   "source": [
    "# finding unique values in columns\n",
    "df.nunique()"
   ]
  },
  {
   "cell_type": "code",
   "execution_count": 13,
   "id": "e3bd3399",
   "metadata": {},
   "outputs": [],
   "source": [
    "# dropping irrelevant columns\n",
    "df = df.drop(['f2','f3','f7','f10'], axis=1) "
   ]
  },
  {
   "cell_type": "code",
   "execution_count": 14,
   "id": "24b69e45",
   "metadata": {},
   "outputs": [
    {
     "data": {
      "text/html": [
       "<div>\n",
       "<style scoped>\n",
       "    .dataframe tbody tr th:only-of-type {\n",
       "        vertical-align: middle;\n",
       "    }\n",
       "\n",
       "    .dataframe tbody tr th {\n",
       "        vertical-align: top;\n",
       "    }\n",
       "\n",
       "    .dataframe thead th {\n",
       "        text-align: right;\n",
       "    }\n",
       "</style>\n",
       "<table border=\"1\" class=\"dataframe\">\n",
       "  <thead>\n",
       "    <tr style=\"text-align: right;\">\n",
       "      <th></th>\n",
       "      <th>f1</th>\n",
       "      <th>f4</th>\n",
       "      <th>f5</th>\n",
       "      <th>f6</th>\n",
       "      <th>f8</th>\n",
       "      <th>f9</th>\n",
       "      <th>target</th>\n",
       "    </tr>\n",
       "  </thead>\n",
       "  <tbody>\n",
       "    <tr>\n",
       "      <th>0</th>\n",
       "      <td>2021-09-01 08:30:19.320999+00:00</td>\n",
       "      <td>2021-09-08 11:00:00+00:00</td>\n",
       "      <td>2021-09-08 12:55:00+00:00</td>\n",
       "      <td>beta</td>\n",
       "      <td>40.0</td>\n",
       "      <td>0.0</td>\n",
       "      <td>7400.0</td>\n",
       "    </tr>\n",
       "    <tr>\n",
       "      <th>1</th>\n",
       "      <td>2021-09-01 08:30:19.320999+00:00</td>\n",
       "      <td>2021-09-08 14:00:00+00:00</td>\n",
       "      <td>2021-09-08 15:55:00+00:00</td>\n",
       "      <td>beta</td>\n",
       "      <td>40.0</td>\n",
       "      <td>0.0</td>\n",
       "      <td>8650.0</td>\n",
       "    </tr>\n",
       "    <tr>\n",
       "      <th>2</th>\n",
       "      <td>2021-09-01 08:30:19.320999+00:00</td>\n",
       "      <td>2021-09-08 05:00:00+00:00</td>\n",
       "      <td>2021-09-08 06:55:00+00:00</td>\n",
       "      <td>beta</td>\n",
       "      <td>20.0</td>\n",
       "      <td>0.0</td>\n",
       "      <td>9150.0</td>\n",
       "    </tr>\n",
       "    <tr>\n",
       "      <th>3</th>\n",
       "      <td>2021-09-01 08:30:20.396761+00:00</td>\n",
       "      <td>2021-09-08 05:30:00+00:00</td>\n",
       "      <td>2021-09-08 07:30:00+00:00</td>\n",
       "      <td>gamma</td>\n",
       "      <td>20.0</td>\n",
       "      <td>2.0</td>\n",
       "      <td>10400.0</td>\n",
       "    </tr>\n",
       "    <tr>\n",
       "      <th>4</th>\n",
       "      <td>2021-09-01 08:30:20.396761+00:00</td>\n",
       "      <td>2021-09-08 05:30:00+00:00</td>\n",
       "      <td>2021-09-08 07:30:00+00:00</td>\n",
       "      <td>gamma</td>\n",
       "      <td>20.0</td>\n",
       "      <td>1.0</td>\n",
       "      <td>8697.0</td>\n",
       "    </tr>\n",
       "  </tbody>\n",
       "</table>\n",
       "</div>"
      ],
      "text/plain": [
       "                                 f1                         f4  \\\n",
       "0  2021-09-01 08:30:19.320999+00:00  2021-09-08 11:00:00+00:00   \n",
       "1  2021-09-01 08:30:19.320999+00:00  2021-09-08 14:00:00+00:00   \n",
       "2  2021-09-01 08:30:19.320999+00:00  2021-09-08 05:00:00+00:00   \n",
       "3  2021-09-01 08:30:20.396761+00:00  2021-09-08 05:30:00+00:00   \n",
       "4  2021-09-01 08:30:20.396761+00:00  2021-09-08 05:30:00+00:00   \n",
       "\n",
       "                          f5     f6    f8   f9   target  \n",
       "0  2021-09-08 12:55:00+00:00   beta  40.0  0.0   7400.0  \n",
       "1  2021-09-08 15:55:00+00:00   beta  40.0  0.0   8650.0  \n",
       "2  2021-09-08 06:55:00+00:00   beta  20.0  0.0   9150.0  \n",
       "3  2021-09-08 07:30:00+00:00  gamma  20.0  2.0  10400.0  \n",
       "4  2021-09-08 07:30:00+00:00  gamma  20.0  1.0   8697.0  "
      ]
     },
     "execution_count": 14,
     "metadata": {},
     "output_type": "execute_result"
    }
   ],
   "source": [
    "df.head()"
   ]
  },
  {
   "cell_type": "code",
   "execution_count": 15,
   "id": "190b96fb",
   "metadata": {},
   "outputs": [
    {
     "name": "stdout",
     "output_type": "stream",
     "text": [
      "<class 'pandas.core.frame.DataFrame'>\n",
      "Int64Index: 4515741 entries, 0 to 4532488\n",
      "Columns: 7 entries, f1 to target\n",
      "dtypes: float64(3), object(4)\n",
      "memory usage: 1.5 GB\n"
     ]
    }
   ],
   "source": [
    "# checking the usage of memory by dataset\n",
    "df.info(verbose=False, memory_usage=\"deep\")"
   ]
  },
  {
   "cell_type": "markdown",
   "id": "35f3fa13",
   "metadata": {},
   "source": [
    "We removed duplicates and irrelevant columns, now the memory usage is 1.5 GB."
   ]
  },
  {
   "cell_type": "code",
   "execution_count": 16,
   "id": "45f2f59a",
   "metadata": {},
   "outputs": [
    {
     "data": {
      "text/plain": [
       "f1        401900949\n",
       "f4        370290762\n",
       "f5        370290762\n",
       "f6        279255618\n",
       "f8         36125928\n",
       "f9         36125928\n",
       "target     36125928\n",
       "dtype: int64"
      ]
     },
     "execution_count": 16,
     "metadata": {},
     "output_type": "execute_result"
    }
   ],
   "source": [
    "# Checking memeroy usage of different columnms\n",
    "df.memory_usage(index=False, deep=True)"
   ]
  },
  {
   "cell_type": "code",
   "execution_count": 17,
   "id": "0d920e1b",
   "metadata": {
    "scrolled": true
   },
   "outputs": [
    {
     "name": "stdout",
     "output_type": "stream",
     "text": [
      "<class 'pandas.core.frame.DataFrame'>\n",
      "Int64Index: 4515741 entries, 0 to 4532488\n",
      "Data columns (total 7 columns):\n",
      " #   Column  Dtype  \n",
      "---  ------  -----  \n",
      " 0   f1      object \n",
      " 1   f4      object \n",
      " 2   f5      object \n",
      " 3   f6      object \n",
      " 4   f8      float64\n",
      " 5   f9      float64\n",
      " 6   target  float64\n",
      "dtypes: float64(3), object(4)\n",
      "memory usage: 275.6+ MB\n"
     ]
    }
   ],
   "source": [
    "# checking datatypes of different columns in dataset.\n",
    "\n",
    "df.info()"
   ]
  },
  {
   "cell_type": "code",
   "execution_count": 18,
   "id": "0ae84e7f",
   "metadata": {},
   "outputs": [
    {
     "data": {
      "text/html": [
       "<div>\n",
       "<style scoped>\n",
       "    .dataframe tbody tr th:only-of-type {\n",
       "        vertical-align: middle;\n",
       "    }\n",
       "\n",
       "    .dataframe tbody tr th {\n",
       "        vertical-align: top;\n",
       "    }\n",
       "\n",
       "    .dataframe thead th {\n",
       "        text-align: right;\n",
       "    }\n",
       "</style>\n",
       "<table border=\"1\" class=\"dataframe\">\n",
       "  <thead>\n",
       "    <tr style=\"text-align: right;\">\n",
       "      <th></th>\n",
       "      <th>f8</th>\n",
       "      <th>f9</th>\n",
       "      <th>target</th>\n",
       "    </tr>\n",
       "  </thead>\n",
       "  <tbody>\n",
       "    <tr>\n",
       "      <th>count</th>\n",
       "      <td>4.515741e+06</td>\n",
       "      <td>4.515741e+06</td>\n",
       "      <td>4.515741e+06</td>\n",
       "    </tr>\n",
       "    <tr>\n",
       "      <th>mean</th>\n",
       "      <td>2.202416e+01</td>\n",
       "      <td>9.890705e-01</td>\n",
       "      <td>9.973305e+03</td>\n",
       "    </tr>\n",
       "    <tr>\n",
       "      <th>std</th>\n",
       "      <td>7.752096e+00</td>\n",
       "      <td>5.549678e-01</td>\n",
       "      <td>1.891602e+03</td>\n",
       "    </tr>\n",
       "    <tr>\n",
       "      <th>min</th>\n",
       "      <td>0.000000e+00</td>\n",
       "      <td>0.000000e+00</td>\n",
       "      <td>6.881000e+03</td>\n",
       "    </tr>\n",
       "    <tr>\n",
       "      <th>25%</th>\n",
       "      <td>2.000000e+01</td>\n",
       "      <td>1.000000e+00</td>\n",
       "      <td>8.739000e+03</td>\n",
       "    </tr>\n",
       "    <tr>\n",
       "      <th>50%</th>\n",
       "      <td>2.000000e+01</td>\n",
       "      <td>1.000000e+00</td>\n",
       "      <td>9.798000e+03</td>\n",
       "    </tr>\n",
       "    <tr>\n",
       "      <th>75%</th>\n",
       "      <td>2.000000e+01</td>\n",
       "      <td>1.000000e+00</td>\n",
       "      <td>1.079900e+04</td>\n",
       "    </tr>\n",
       "    <tr>\n",
       "      <th>max</th>\n",
       "      <td>4.000000e+01</td>\n",
       "      <td>2.000000e+00</td>\n",
       "      <td>3.358500e+04</td>\n",
       "    </tr>\n",
       "  </tbody>\n",
       "</table>\n",
       "</div>"
      ],
      "text/plain": [
       "                 f8            f9        target\n",
       "count  4.515741e+06  4.515741e+06  4.515741e+06\n",
       "mean   2.202416e+01  9.890705e-01  9.973305e+03\n",
       "std    7.752096e+00  5.549678e-01  1.891602e+03\n",
       "min    0.000000e+00  0.000000e+00  6.881000e+03\n",
       "25%    2.000000e+01  1.000000e+00  8.739000e+03\n",
       "50%    2.000000e+01  1.000000e+00  9.798000e+03\n",
       "75%    2.000000e+01  1.000000e+00  1.079900e+04\n",
       "max    4.000000e+01  2.000000e+00  3.358500e+04"
      ]
     },
     "execution_count": 18,
     "metadata": {},
     "output_type": "execute_result"
    }
   ],
   "source": [
    "# describing numerical columns.\n",
    "df.describe()"
   ]
  },
  {
   "cell_type": "markdown",
   "id": "f8d2be99",
   "metadata": {},
   "source": [
    "As can be seen, the f8, f9 and target columns are assigned float64 datatype, however their values can be represented by only int8 or int16 datatype. So let's assign proper datatypes to them."
   ]
  },
  {
   "cell_type": "code",
   "execution_count": 19,
   "id": "9c20d9f4",
   "metadata": {},
   "outputs": [
    {
     "name": "stdout",
     "output_type": "stream",
     "text": [
      "f1        object\n",
      "f4        object\n",
      "f5        object\n",
      "f6        object\n",
      "f8          int8\n",
      "f9          int8\n",
      "target     int16\n",
      "dtype: object\n"
     ]
    }
   ],
   "source": [
    "# using dictionary to convert specific columns datatype.\n",
    "convert_dict = {'f8': 'int8',\n",
    "                'f9': 'int8',\n",
    "                'target':'int16'\n",
    "               }\n",
    "  \n",
    "df = df.astype(convert_dict)\n",
    "print(df.dtypes)"
   ]
  },
  {
   "cell_type": "code",
   "execution_count": 20,
   "id": "88ce6cd8",
   "metadata": {
    "scrolled": true
   },
   "outputs": [
    {
     "data": {
      "text/plain": [
       "f1        401900949\n",
       "f4        370290762\n",
       "f5        370290762\n",
       "f6        279255618\n",
       "f8          4515741\n",
       "f9          4515741\n",
       "target      9031482\n",
       "dtype: int64"
      ]
     },
     "execution_count": 20,
     "metadata": {},
     "output_type": "execute_result"
    }
   ],
   "source": [
    "# Checking memeroy usage of different columnms now\n",
    "df.memory_usage(index=False, deep=True)"
   ]
  },
  {
   "cell_type": "code",
   "execution_count": 21,
   "id": "96777328",
   "metadata": {},
   "outputs": [
    {
     "name": "stdout",
     "output_type": "stream",
     "text": [
      "<class 'pandas.core.frame.DataFrame'>\n",
      "Int64Index: 4515741 entries, 0 to 4532488\n",
      "Columns: 7 entries, f1 to target\n",
      "dtypes: int16(1), int8(2), object(4)\n",
      "memory usage: 1.4 GB\n"
     ]
    }
   ],
   "source": [
    "# checking the usage of memory by dataset\n",
    "df.info(verbose=False, memory_usage=\"deep\")"
   ]
  },
  {
   "cell_type": "code",
   "execution_count": 22,
   "id": "f867a769",
   "metadata": {},
   "outputs": [
    {
     "data": {
      "text/html": [
       "<div>\n",
       "<style scoped>\n",
       "    .dataframe tbody tr th:only-of-type {\n",
       "        vertical-align: middle;\n",
       "    }\n",
       "\n",
       "    .dataframe tbody tr th {\n",
       "        vertical-align: top;\n",
       "    }\n",
       "\n",
       "    .dataframe thead th {\n",
       "        text-align: right;\n",
       "    }\n",
       "</style>\n",
       "<table border=\"1\" class=\"dataframe\">\n",
       "  <thead>\n",
       "    <tr style=\"text-align: right;\">\n",
       "      <th></th>\n",
       "      <th>f1</th>\n",
       "      <th>f4</th>\n",
       "      <th>f5</th>\n",
       "      <th>f6</th>\n",
       "      <th>f8</th>\n",
       "      <th>f9</th>\n",
       "      <th>target</th>\n",
       "    </tr>\n",
       "  </thead>\n",
       "  <tbody>\n",
       "    <tr>\n",
       "      <th>0</th>\n",
       "      <td>2021-09-01 08:30:19.320999+00:00</td>\n",
       "      <td>2021-09-08 11:00:00+00:00</td>\n",
       "      <td>2021-09-08 12:55:00+00:00</td>\n",
       "      <td>beta</td>\n",
       "      <td>40</td>\n",
       "      <td>0</td>\n",
       "      <td>7400</td>\n",
       "    </tr>\n",
       "    <tr>\n",
       "      <th>1</th>\n",
       "      <td>2021-09-01 08:30:19.320999+00:00</td>\n",
       "      <td>2021-09-08 14:00:00+00:00</td>\n",
       "      <td>2021-09-08 15:55:00+00:00</td>\n",
       "      <td>beta</td>\n",
       "      <td>40</td>\n",
       "      <td>0</td>\n",
       "      <td>8650</td>\n",
       "    </tr>\n",
       "    <tr>\n",
       "      <th>2</th>\n",
       "      <td>2021-09-01 08:30:19.320999+00:00</td>\n",
       "      <td>2021-09-08 05:00:00+00:00</td>\n",
       "      <td>2021-09-08 06:55:00+00:00</td>\n",
       "      <td>beta</td>\n",
       "      <td>20</td>\n",
       "      <td>0</td>\n",
       "      <td>9150</td>\n",
       "    </tr>\n",
       "    <tr>\n",
       "      <th>3</th>\n",
       "      <td>2021-09-01 08:30:20.396761+00:00</td>\n",
       "      <td>2021-09-08 05:30:00+00:00</td>\n",
       "      <td>2021-09-08 07:30:00+00:00</td>\n",
       "      <td>gamma</td>\n",
       "      <td>20</td>\n",
       "      <td>2</td>\n",
       "      <td>10400</td>\n",
       "    </tr>\n",
       "    <tr>\n",
       "      <th>4</th>\n",
       "      <td>2021-09-01 08:30:20.396761+00:00</td>\n",
       "      <td>2021-09-08 05:30:00+00:00</td>\n",
       "      <td>2021-09-08 07:30:00+00:00</td>\n",
       "      <td>gamma</td>\n",
       "      <td>20</td>\n",
       "      <td>1</td>\n",
       "      <td>8697</td>\n",
       "    </tr>\n",
       "  </tbody>\n",
       "</table>\n",
       "</div>"
      ],
      "text/plain": [
       "                                 f1                         f4  \\\n",
       "0  2021-09-01 08:30:19.320999+00:00  2021-09-08 11:00:00+00:00   \n",
       "1  2021-09-01 08:30:19.320999+00:00  2021-09-08 14:00:00+00:00   \n",
       "2  2021-09-01 08:30:19.320999+00:00  2021-09-08 05:00:00+00:00   \n",
       "3  2021-09-01 08:30:20.396761+00:00  2021-09-08 05:30:00+00:00   \n",
       "4  2021-09-01 08:30:20.396761+00:00  2021-09-08 05:30:00+00:00   \n",
       "\n",
       "                          f5     f6  f8  f9  target  \n",
       "0  2021-09-08 12:55:00+00:00   beta  40   0    7400  \n",
       "1  2021-09-08 15:55:00+00:00   beta  40   0    8650  \n",
       "2  2021-09-08 06:55:00+00:00   beta  20   0    9150  \n",
       "3  2021-09-08 07:30:00+00:00  gamma  20   2   10400  \n",
       "4  2021-09-08 07:30:00+00:00  gamma  20   1    8697  "
      ]
     },
     "execution_count": 22,
     "metadata": {},
     "output_type": "execute_result"
    }
   ],
   "source": [
    "df.head()"
   ]
  },
  {
   "cell_type": "code",
   "execution_count": 23,
   "id": "3ee77571",
   "metadata": {},
   "outputs": [],
   "source": [
    "#ns.barplot(data = df ,x = 'target', alpha = 1, color='Navy', bins = 10, binwidth = 10)"
   ]
  },
  {
   "cell_type": "code",
   "execution_count": null,
   "id": "54210058",
   "metadata": {},
   "outputs": [],
   "source": []
  },
  {
   "cell_type": "markdown",
   "id": "be58d129",
   "metadata": {},
   "source": [
    "# Feature Engineering"
   ]
  },
  {
   "cell_type": "markdown",
   "id": "cae8c850",
   "metadata": {},
   "source": [
    "Exctracting featurs from f1, f4 and f5"
   ]
  },
  {
   "cell_type": "code",
   "execution_count": 24,
   "id": "aff0f960",
   "metadata": {},
   "outputs": [
    {
     "data": {
      "text/html": [
       "<div>\n",
       "<style scoped>\n",
       "    .dataframe tbody tr th:only-of-type {\n",
       "        vertical-align: middle;\n",
       "    }\n",
       "\n",
       "    .dataframe tbody tr th {\n",
       "        vertical-align: top;\n",
       "    }\n",
       "\n",
       "    .dataframe thead th {\n",
       "        text-align: right;\n",
       "    }\n",
       "</style>\n",
       "<table border=\"1\" class=\"dataframe\">\n",
       "  <thead>\n",
       "    <tr style=\"text-align: right;\">\n",
       "      <th></th>\n",
       "      <th>f1</th>\n",
       "      <th>f4</th>\n",
       "      <th>f5</th>\n",
       "      <th>f6</th>\n",
       "      <th>f8</th>\n",
       "      <th>f9</th>\n",
       "      <th>target</th>\n",
       "      <th>ticket_pday</th>\n",
       "      <th>ticket_pmonth</th>\n",
       "      <th>ticket_pyear</th>\n",
       "      <th>ticket_phour</th>\n",
       "      <th>ticket_pmin</th>\n",
       "      <th>journey_day</th>\n",
       "      <th>journey_month</th>\n",
       "      <th>journey_year</th>\n",
       "      <th>departure_hour</th>\n",
       "      <th>departure_min</th>\n",
       "      <th>arrival_hour</th>\n",
       "      <th>arrival_min</th>\n",
       "    </tr>\n",
       "  </thead>\n",
       "  <tbody>\n",
       "    <tr>\n",
       "      <th>0</th>\n",
       "      <td>2021-09-01 08:30:19.320999+00:00</td>\n",
       "      <td>2021-09-08 11:00:00+00:00</td>\n",
       "      <td>2021-09-08 12:55:00+00:00</td>\n",
       "      <td>beta</td>\n",
       "      <td>40</td>\n",
       "      <td>0</td>\n",
       "      <td>7400</td>\n",
       "      <td>1</td>\n",
       "      <td>9</td>\n",
       "      <td>2021</td>\n",
       "      <td>8</td>\n",
       "      <td>30</td>\n",
       "      <td>8</td>\n",
       "      <td>9</td>\n",
       "      <td>2021</td>\n",
       "      <td>11</td>\n",
       "      <td>0</td>\n",
       "      <td>12</td>\n",
       "      <td>55</td>\n",
       "    </tr>\n",
       "    <tr>\n",
       "      <th>1</th>\n",
       "      <td>2021-09-01 08:30:19.320999+00:00</td>\n",
       "      <td>2021-09-08 14:00:00+00:00</td>\n",
       "      <td>2021-09-08 15:55:00+00:00</td>\n",
       "      <td>beta</td>\n",
       "      <td>40</td>\n",
       "      <td>0</td>\n",
       "      <td>8650</td>\n",
       "      <td>1</td>\n",
       "      <td>9</td>\n",
       "      <td>2021</td>\n",
       "      <td>8</td>\n",
       "      <td>30</td>\n",
       "      <td>8</td>\n",
       "      <td>9</td>\n",
       "      <td>2021</td>\n",
       "      <td>14</td>\n",
       "      <td>0</td>\n",
       "      <td>15</td>\n",
       "      <td>55</td>\n",
       "    </tr>\n",
       "    <tr>\n",
       "      <th>2</th>\n",
       "      <td>2021-09-01 08:30:19.320999+00:00</td>\n",
       "      <td>2021-09-08 05:00:00+00:00</td>\n",
       "      <td>2021-09-08 06:55:00+00:00</td>\n",
       "      <td>beta</td>\n",
       "      <td>20</td>\n",
       "      <td>0</td>\n",
       "      <td>9150</td>\n",
       "      <td>1</td>\n",
       "      <td>9</td>\n",
       "      <td>2021</td>\n",
       "      <td>8</td>\n",
       "      <td>30</td>\n",
       "      <td>8</td>\n",
       "      <td>9</td>\n",
       "      <td>2021</td>\n",
       "      <td>5</td>\n",
       "      <td>0</td>\n",
       "      <td>6</td>\n",
       "      <td>55</td>\n",
       "    </tr>\n",
       "    <tr>\n",
       "      <th>3</th>\n",
       "      <td>2021-09-01 08:30:20.396761+00:00</td>\n",
       "      <td>2021-09-08 05:30:00+00:00</td>\n",
       "      <td>2021-09-08 07:30:00+00:00</td>\n",
       "      <td>gamma</td>\n",
       "      <td>20</td>\n",
       "      <td>2</td>\n",
       "      <td>10400</td>\n",
       "      <td>1</td>\n",
       "      <td>9</td>\n",
       "      <td>2021</td>\n",
       "      <td>8</td>\n",
       "      <td>30</td>\n",
       "      <td>8</td>\n",
       "      <td>9</td>\n",
       "      <td>2021</td>\n",
       "      <td>5</td>\n",
       "      <td>30</td>\n",
       "      <td>7</td>\n",
       "      <td>30</td>\n",
       "    </tr>\n",
       "    <tr>\n",
       "      <th>4</th>\n",
       "      <td>2021-09-01 08:30:20.396761+00:00</td>\n",
       "      <td>2021-09-08 05:30:00+00:00</td>\n",
       "      <td>2021-09-08 07:30:00+00:00</td>\n",
       "      <td>gamma</td>\n",
       "      <td>20</td>\n",
       "      <td>1</td>\n",
       "      <td>8697</td>\n",
       "      <td>1</td>\n",
       "      <td>9</td>\n",
       "      <td>2021</td>\n",
       "      <td>8</td>\n",
       "      <td>30</td>\n",
       "      <td>8</td>\n",
       "      <td>9</td>\n",
       "      <td>2021</td>\n",
       "      <td>5</td>\n",
       "      <td>30</td>\n",
       "      <td>7</td>\n",
       "      <td>30</td>\n",
       "    </tr>\n",
       "  </tbody>\n",
       "</table>\n",
       "</div>"
      ],
      "text/plain": [
       "                                 f1                         f4  \\\n",
       "0  2021-09-01 08:30:19.320999+00:00  2021-09-08 11:00:00+00:00   \n",
       "1  2021-09-01 08:30:19.320999+00:00  2021-09-08 14:00:00+00:00   \n",
       "2  2021-09-01 08:30:19.320999+00:00  2021-09-08 05:00:00+00:00   \n",
       "3  2021-09-01 08:30:20.396761+00:00  2021-09-08 05:30:00+00:00   \n",
       "4  2021-09-01 08:30:20.396761+00:00  2021-09-08 05:30:00+00:00   \n",
       "\n",
       "                          f5     f6  f8  f9  target  ticket_pday  \\\n",
       "0  2021-09-08 12:55:00+00:00   beta  40   0    7400            1   \n",
       "1  2021-09-08 15:55:00+00:00   beta  40   0    8650            1   \n",
       "2  2021-09-08 06:55:00+00:00   beta  20   0    9150            1   \n",
       "3  2021-09-08 07:30:00+00:00  gamma  20   2   10400            1   \n",
       "4  2021-09-08 07:30:00+00:00  gamma  20   1    8697            1   \n",
       "\n",
       "   ticket_pmonth  ticket_pyear  ticket_phour  ticket_pmin  journey_day  \\\n",
       "0              9          2021             8           30            8   \n",
       "1              9          2021             8           30            8   \n",
       "2              9          2021             8           30            8   \n",
       "3              9          2021             8           30            8   \n",
       "4              9          2021             8           30            8   \n",
       "\n",
       "   journey_month  journey_year  departure_hour  departure_min  arrival_hour  \\\n",
       "0              9          2021              11              0            12   \n",
       "1              9          2021              14              0            15   \n",
       "2              9          2021               5              0             6   \n",
       "3              9          2021               5             30             7   \n",
       "4              9          2021               5             30             7   \n",
       "\n",
       "   arrival_min  \n",
       "0           55  \n",
       "1           55  \n",
       "2           55  \n",
       "3           30  \n",
       "4           30  "
      ]
     },
     "execution_count": 24,
     "metadata": {},
     "output_type": "execute_result"
    }
   ],
   "source": [
    "# Extracting features from f1 ticket purchase date and time:\n",
    "df[\"ticket_pday\"] = pd.to_datetime(df.f1).dt.day\n",
    "df[\"ticket_pmonth\"] = pd.to_datetime(df.f1).dt.month\n",
    "df[\"ticket_pyear\"] = pd.to_datetime(df.f1).dt.year\n",
    "df[\"ticket_phour\"] = pd.to_datetime(df.f1).dt.hour\n",
    "df[\"ticket_pmin\"] = pd.to_datetime(df.f1).dt.minute\n",
    "\n",
    "# Extracting features from f4 date of journey\n",
    "df[\"journey_day\"] = pd.to_datetime(df.f4).dt.day\n",
    "df[\"journey_month\"] = pd.to_datetime(df.f4).dt.month\n",
    "df[\"journey_year\"] = pd.to_datetime(df.f4).dt.year\n",
    "\n",
    "# Extracting features from f4 date of departure\n",
    "df[\"departure_hour\"] = pd.to_datetime(df.f4).dt.hour\n",
    "df[\"departure_min\"] = pd.to_datetime(df.f4).dt.minute\n",
    "\n",
    "# Extracting features from f5 date of arrival\n",
    "df[\"arrival_hour\"] = pd.to_datetime(df.f5).dt.hour\n",
    "df[\"arrival_min\"] = pd.to_datetime(df.f5).dt.minute\n",
    "\n",
    "df.head()"
   ]
  },
  {
   "cell_type": "code",
   "execution_count": 25,
   "id": "22fbb898",
   "metadata": {},
   "outputs": [
    {
     "data": {
      "text/html": [
       "<div>\n",
       "<style scoped>\n",
       "    .dataframe tbody tr th:only-of-type {\n",
       "        vertical-align: middle;\n",
       "    }\n",
       "\n",
       "    .dataframe tbody tr th {\n",
       "        vertical-align: top;\n",
       "    }\n",
       "\n",
       "    .dataframe thead th {\n",
       "        text-align: right;\n",
       "    }\n",
       "</style>\n",
       "<table border=\"1\" class=\"dataframe\">\n",
       "  <thead>\n",
       "    <tr style=\"text-align: right;\">\n",
       "      <th></th>\n",
       "      <th>f6</th>\n",
       "      <th>f8</th>\n",
       "      <th>f9</th>\n",
       "      <th>target</th>\n",
       "      <th>ticket_pday</th>\n",
       "      <th>ticket_pmonth</th>\n",
       "      <th>ticket_pyear</th>\n",
       "      <th>ticket_phour</th>\n",
       "      <th>ticket_pmin</th>\n",
       "      <th>journey_day</th>\n",
       "      <th>journey_month</th>\n",
       "      <th>journey_year</th>\n",
       "      <th>departure_hour</th>\n",
       "      <th>departure_min</th>\n",
       "      <th>arrival_hour</th>\n",
       "      <th>arrival_min</th>\n",
       "    </tr>\n",
       "  </thead>\n",
       "  <tbody>\n",
       "    <tr>\n",
       "      <th>0</th>\n",
       "      <td>beta</td>\n",
       "      <td>40</td>\n",
       "      <td>0</td>\n",
       "      <td>7400</td>\n",
       "      <td>1</td>\n",
       "      <td>9</td>\n",
       "      <td>2021</td>\n",
       "      <td>8</td>\n",
       "      <td>30</td>\n",
       "      <td>8</td>\n",
       "      <td>9</td>\n",
       "      <td>2021</td>\n",
       "      <td>11</td>\n",
       "      <td>0</td>\n",
       "      <td>12</td>\n",
       "      <td>55</td>\n",
       "    </tr>\n",
       "    <tr>\n",
       "      <th>1</th>\n",
       "      <td>beta</td>\n",
       "      <td>40</td>\n",
       "      <td>0</td>\n",
       "      <td>8650</td>\n",
       "      <td>1</td>\n",
       "      <td>9</td>\n",
       "      <td>2021</td>\n",
       "      <td>8</td>\n",
       "      <td>30</td>\n",
       "      <td>8</td>\n",
       "      <td>9</td>\n",
       "      <td>2021</td>\n",
       "      <td>14</td>\n",
       "      <td>0</td>\n",
       "      <td>15</td>\n",
       "      <td>55</td>\n",
       "    </tr>\n",
       "    <tr>\n",
       "      <th>2</th>\n",
       "      <td>beta</td>\n",
       "      <td>20</td>\n",
       "      <td>0</td>\n",
       "      <td>9150</td>\n",
       "      <td>1</td>\n",
       "      <td>9</td>\n",
       "      <td>2021</td>\n",
       "      <td>8</td>\n",
       "      <td>30</td>\n",
       "      <td>8</td>\n",
       "      <td>9</td>\n",
       "      <td>2021</td>\n",
       "      <td>5</td>\n",
       "      <td>0</td>\n",
       "      <td>6</td>\n",
       "      <td>55</td>\n",
       "    </tr>\n",
       "    <tr>\n",
       "      <th>3</th>\n",
       "      <td>gamma</td>\n",
       "      <td>20</td>\n",
       "      <td>2</td>\n",
       "      <td>10400</td>\n",
       "      <td>1</td>\n",
       "      <td>9</td>\n",
       "      <td>2021</td>\n",
       "      <td>8</td>\n",
       "      <td>30</td>\n",
       "      <td>8</td>\n",
       "      <td>9</td>\n",
       "      <td>2021</td>\n",
       "      <td>5</td>\n",
       "      <td>30</td>\n",
       "      <td>7</td>\n",
       "      <td>30</td>\n",
       "    </tr>\n",
       "    <tr>\n",
       "      <th>4</th>\n",
       "      <td>gamma</td>\n",
       "      <td>20</td>\n",
       "      <td>1</td>\n",
       "      <td>8697</td>\n",
       "      <td>1</td>\n",
       "      <td>9</td>\n",
       "      <td>2021</td>\n",
       "      <td>8</td>\n",
       "      <td>30</td>\n",
       "      <td>8</td>\n",
       "      <td>9</td>\n",
       "      <td>2021</td>\n",
       "      <td>5</td>\n",
       "      <td>30</td>\n",
       "      <td>7</td>\n",
       "      <td>30</td>\n",
       "    </tr>\n",
       "  </tbody>\n",
       "</table>\n",
       "</div>"
      ],
      "text/plain": [
       "      f6  f8  f9  target  ticket_pday  ticket_pmonth  ticket_pyear  \\\n",
       "0   beta  40   0    7400            1              9          2021   \n",
       "1   beta  40   0    8650            1              9          2021   \n",
       "2   beta  20   0    9150            1              9          2021   \n",
       "3  gamma  20   2   10400            1              9          2021   \n",
       "4  gamma  20   1    8697            1              9          2021   \n",
       "\n",
       "   ticket_phour  ticket_pmin  journey_day  journey_month  journey_year  \\\n",
       "0             8           30            8              9          2021   \n",
       "1             8           30            8              9          2021   \n",
       "2             8           30            8              9          2021   \n",
       "3             8           30            8              9          2021   \n",
       "4             8           30            8              9          2021   \n",
       "\n",
       "   departure_hour  departure_min  arrival_hour  arrival_min  \n",
       "0              11              0            12           55  \n",
       "1              14              0            15           55  \n",
       "2               5              0             6           55  \n",
       "3               5             30             7           30  \n",
       "4               5             30             7           30  "
      ]
     },
     "execution_count": 25,
     "metadata": {},
     "output_type": "execute_result"
    }
   ],
   "source": [
    "# dropping columns f1, f4 and f5 from which features were extracted\n",
    "df=df.drop(['f1','f4','f5'], axis=1)\n",
    "df.head()"
   ]
  },
  {
   "cell_type": "markdown",
   "id": "28fcb8c3",
   "metadata": {},
   "source": [
    " Handling Categorical Data"
   ]
  },
  {
   "cell_type": "code",
   "execution_count": 26,
   "id": "0ba59e32",
   "metadata": {},
   "outputs": [
    {
     "data": {
      "text/plain": [
       "alpha    1715259\n",
       "gamma    1341926\n",
       "omega     738232\n",
       "beta      720324\n",
       "Name: f6, dtype: int64"
      ]
     },
     "execution_count": 26,
     "metadata": {},
     "output_type": "execute_result"
    }
   ],
   "source": [
    "# checking value counts of respective airlines.\n",
    "df['f6'].value_counts()"
   ]
  },
  {
   "cell_type": "code",
   "execution_count": 27,
   "id": "a392e9bb",
   "metadata": {},
   "outputs": [
    {
     "data": {
      "image/png": "[encoded data removed]",
      "text/plain": [
       "<Figure size 864x288 with 1 Axes>"
      ]
     },
     "metadata": {
      "needs_background": "light"
     },
     "output_type": "display_data"
    }
   ],
   "source": [
    "# Airline vs. price\n",
    "\n",
    "sns.catplot(y = \"target\", x = \"f6\", data = df.sort_values(\"target\", ascending = False), kind=\"boxen\", height = 4, aspect = 3)\n",
    "plt.show()"
   ]
  },
  {
   "cell_type": "markdown",
   "id": "25243536",
   "metadata": {},
   "source": [
    "From the above graph, we can see that all airlines almost have the same business.\n"
   ]
  },
  {
   "cell_type": "code",
   "execution_count": 28,
   "id": "aeb4233c",
   "metadata": {},
   "outputs": [
    {
     "data": {
      "text/html": [
       "<div>\n",
       "<style scoped>\n",
       "    .dataframe tbody tr th:only-of-type {\n",
       "        vertical-align: middle;\n",
       "    }\n",
       "\n",
       "    .dataframe tbody tr th {\n",
       "        vertical-align: top;\n",
       "    }\n",
       "\n",
       "    .dataframe thead th {\n",
       "        text-align: right;\n",
       "    }\n",
       "</style>\n",
       "<table border=\"1\" class=\"dataframe\">\n",
       "  <thead>\n",
       "    <tr style=\"text-align: right;\">\n",
       "      <th></th>\n",
       "      <th>f6_alpha</th>\n",
       "      <th>f6_beta</th>\n",
       "      <th>f6_gamma</th>\n",
       "      <th>f6_omega</th>\n",
       "    </tr>\n",
       "  </thead>\n",
       "  <tbody>\n",
       "    <tr>\n",
       "      <th>0</th>\n",
       "      <td>0</td>\n",
       "      <td>1</td>\n",
       "      <td>0</td>\n",
       "      <td>0</td>\n",
       "    </tr>\n",
       "    <tr>\n",
       "      <th>1</th>\n",
       "      <td>0</td>\n",
       "      <td>1</td>\n",
       "      <td>0</td>\n",
       "      <td>0</td>\n",
       "    </tr>\n",
       "    <tr>\n",
       "      <th>2</th>\n",
       "      <td>0</td>\n",
       "      <td>1</td>\n",
       "      <td>0</td>\n",
       "      <td>0</td>\n",
       "    </tr>\n",
       "    <tr>\n",
       "      <th>3</th>\n",
       "      <td>0</td>\n",
       "      <td>0</td>\n",
       "      <td>1</td>\n",
       "      <td>0</td>\n",
       "    </tr>\n",
       "    <tr>\n",
       "      <th>4</th>\n",
       "      <td>0</td>\n",
       "      <td>0</td>\n",
       "      <td>1</td>\n",
       "      <td>0</td>\n",
       "    </tr>\n",
       "  </tbody>\n",
       "</table>\n",
       "</div>"
      ],
      "text/plain": [
       "   f6_alpha  f6_beta  f6_gamma  f6_omega\n",
       "0         0        1         0         0\n",
       "1         0        1         0         0\n",
       "2         0        1         0         0\n",
       "3         0        0         1         0\n",
       "4         0        0         1         0"
      ]
     },
     "execution_count": 28,
     "metadata": {},
     "output_type": "execute_result"
    }
   ],
   "source": [
    "# As f6 airline is Nominal Categorical data we will perform OneHotEncoding\n",
    "\n",
    "Airline = df[[\"f6\"]]\n",
    "Airline = pd.get_dummies(Airline, drop_first= False)\n",
    "Airline.head()"
   ]
  },
  {
   "cell_type": "code",
   "execution_count": 29,
   "id": "fb74359c",
   "metadata": {
    "scrolled": true
   },
   "outputs": [
    {
     "data": {
      "image/png": "[encoded data removed]",
      "text/plain": [
       "<Figure size 864x288 with 1 Axes>"
      ]
     },
     "metadata": {
      "needs_background": "light"
     },
     "output_type": "display_data"
    }
   ],
   "source": [
    "# Ticket Purchase day vs. price\n",
    "\n",
    "sns.catplot(y = \"target\", x = \"ticket_pday\", data = df.sort_values(\"target\", ascending = False), kind=\"boxen\", height = 4, aspect = 3)\n",
    "plt.show()"
   ]
  },
  {
   "cell_type": "code",
   "execution_count": 30,
   "id": "88e04b05",
   "metadata": {},
   "outputs": [
    {
     "data": {
      "image/png": "[encoded data removed]",
      "text/plain": [
       "<Figure size 864x288 with 1 Axes>"
      ]
     },
     "metadata": {
      "needs_background": "light"
     },
     "output_type": "display_data"
    }
   ],
   "source": [
    "# Airline vs. Journey day\n",
    "\n",
    "sns.catplot(y = \"journey_day\", x = \"f6\", data = df.sort_values(\"journey_day\", ascending = False), kind=\"boxen\", height = 4,aspect = 3)\n",
    "plt.show()"
   ]
  },
  {
   "cell_type": "code",
   "execution_count": 31,
   "id": "e197ecda",
   "metadata": {},
   "outputs": [],
   "source": [
    "# Concatenate dataframe --> df + Airline\n",
    "df= pd.concat([df, Airline], axis = 1)\n"
   ]
  },
  {
   "cell_type": "code",
   "execution_count": 32,
   "id": "ee19ed3b",
   "metadata": {},
   "outputs": [],
   "source": [
    "# dropping f6 airline column.\n",
    "df = df.drop(['f6'], axis=1)"
   ]
  },
  {
   "cell_type": "code",
   "execution_count": 33,
   "id": "ef8bbe31",
   "metadata": {
    "scrolled": true
   },
   "outputs": [
    {
     "data": {
      "text/html": [
       "<div>\n",
       "<style scoped>\n",
       "    .dataframe tbody tr th:only-of-type {\n",
       "        vertical-align: middle;\n",
       "    }\n",
       "\n",
       "    .dataframe tbody tr th {\n",
       "        vertical-align: top;\n",
       "    }\n",
       "\n",
       "    .dataframe thead th {\n",
       "        text-align: right;\n",
       "    }\n",
       "</style>\n",
       "<table border=\"1\" class=\"dataframe\">\n",
       "  <thead>\n",
       "    <tr style=\"text-align: right;\">\n",
       "      <th></th>\n",
       "      <th>f8</th>\n",
       "      <th>f9</th>\n",
       "      <th>target</th>\n",
       "      <th>ticket_pday</th>\n",
       "      <th>ticket_pmonth</th>\n",
       "      <th>ticket_pyear</th>\n",
       "      <th>ticket_phour</th>\n",
       "      <th>ticket_pmin</th>\n",
       "      <th>journey_day</th>\n",
       "      <th>journey_month</th>\n",
       "      <th>journey_year</th>\n",
       "      <th>departure_hour</th>\n",
       "      <th>departure_min</th>\n",
       "      <th>arrival_hour</th>\n",
       "      <th>arrival_min</th>\n",
       "      <th>f6_alpha</th>\n",
       "      <th>f6_beta</th>\n",
       "      <th>f6_gamma</th>\n",
       "      <th>f6_omega</th>\n",
       "    </tr>\n",
       "  </thead>\n",
       "  <tbody>\n",
       "    <tr>\n",
       "      <th>0</th>\n",
       "      <td>40</td>\n",
       "      <td>0</td>\n",
       "      <td>7400</td>\n",
       "      <td>1</td>\n",
       "      <td>9</td>\n",
       "      <td>2021</td>\n",
       "      <td>8</td>\n",
       "      <td>30</td>\n",
       "      <td>8</td>\n",
       "      <td>9</td>\n",
       "      <td>2021</td>\n",
       "      <td>11</td>\n",
       "      <td>0</td>\n",
       "      <td>12</td>\n",
       "      <td>55</td>\n",
       "      <td>0</td>\n",
       "      <td>1</td>\n",
       "      <td>0</td>\n",
       "      <td>0</td>\n",
       "    </tr>\n",
       "    <tr>\n",
       "      <th>1</th>\n",
       "      <td>40</td>\n",
       "      <td>0</td>\n",
       "      <td>8650</td>\n",
       "      <td>1</td>\n",
       "      <td>9</td>\n",
       "      <td>2021</td>\n",
       "      <td>8</td>\n",
       "      <td>30</td>\n",
       "      <td>8</td>\n",
       "      <td>9</td>\n",
       "      <td>2021</td>\n",
       "      <td>14</td>\n",
       "      <td>0</td>\n",
       "      <td>15</td>\n",
       "      <td>55</td>\n",
       "      <td>0</td>\n",
       "      <td>1</td>\n",
       "      <td>0</td>\n",
       "      <td>0</td>\n",
       "    </tr>\n",
       "    <tr>\n",
       "      <th>2</th>\n",
       "      <td>20</td>\n",
       "      <td>0</td>\n",
       "      <td>9150</td>\n",
       "      <td>1</td>\n",
       "      <td>9</td>\n",
       "      <td>2021</td>\n",
       "      <td>8</td>\n",
       "      <td>30</td>\n",
       "      <td>8</td>\n",
       "      <td>9</td>\n",
       "      <td>2021</td>\n",
       "      <td>5</td>\n",
       "      <td>0</td>\n",
       "      <td>6</td>\n",
       "      <td>55</td>\n",
       "      <td>0</td>\n",
       "      <td>1</td>\n",
       "      <td>0</td>\n",
       "      <td>0</td>\n",
       "    </tr>\n",
       "    <tr>\n",
       "      <th>3</th>\n",
       "      <td>20</td>\n",
       "      <td>2</td>\n",
       "      <td>10400</td>\n",
       "      <td>1</td>\n",
       "      <td>9</td>\n",
       "      <td>2021</td>\n",
       "      <td>8</td>\n",
       "      <td>30</td>\n",
       "      <td>8</td>\n",
       "      <td>9</td>\n",
       "      <td>2021</td>\n",
       "      <td>5</td>\n",
       "      <td>30</td>\n",
       "      <td>7</td>\n",
       "      <td>30</td>\n",
       "      <td>0</td>\n",
       "      <td>0</td>\n",
       "      <td>1</td>\n",
       "      <td>0</td>\n",
       "    </tr>\n",
       "    <tr>\n",
       "      <th>4</th>\n",
       "      <td>20</td>\n",
       "      <td>1</td>\n",
       "      <td>8697</td>\n",
       "      <td>1</td>\n",
       "      <td>9</td>\n",
       "      <td>2021</td>\n",
       "      <td>8</td>\n",
       "      <td>30</td>\n",
       "      <td>8</td>\n",
       "      <td>9</td>\n",
       "      <td>2021</td>\n",
       "      <td>5</td>\n",
       "      <td>30</td>\n",
       "      <td>7</td>\n",
       "      <td>30</td>\n",
       "      <td>0</td>\n",
       "      <td>0</td>\n",
       "      <td>1</td>\n",
       "      <td>0</td>\n",
       "    </tr>\n",
       "  </tbody>\n",
       "</table>\n",
       "</div>"
      ],
      "text/plain": [
       "   f8  f9  target  ticket_pday  ticket_pmonth  ticket_pyear  ticket_phour  \\\n",
       "0  40   0    7400            1              9          2021             8   \n",
       "1  40   0    8650            1              9          2021             8   \n",
       "2  20   0    9150            1              9          2021             8   \n",
       "3  20   2   10400            1              9          2021             8   \n",
       "4  20   1    8697            1              9          2021             8   \n",
       "\n",
       "   ticket_pmin  journey_day  journey_month  journey_year  departure_hour  \\\n",
       "0           30            8              9          2021              11   \n",
       "1           30            8              9          2021              14   \n",
       "2           30            8              9          2021               5   \n",
       "3           30            8              9          2021               5   \n",
       "4           30            8              9          2021               5   \n",
       "\n",
       "   departure_min  arrival_hour  arrival_min  f6_alpha  f6_beta  f6_gamma  \\\n",
       "0              0            12           55         0        1         0   \n",
       "1              0            15           55         0        1         0   \n",
       "2              0             6           55         0        1         0   \n",
       "3             30             7           30         0        0         1   \n",
       "4             30             7           30         0        0         1   \n",
       "\n",
       "   f6_omega  \n",
       "0         0  \n",
       "1         0  \n",
       "2         0  \n",
       "3         0  \n",
       "4         0  "
      ]
     },
     "execution_count": 33,
     "metadata": {},
     "output_type": "execute_result"
    }
   ],
   "source": [
    "df.head()"
   ]
  },
  {
   "cell_type": "markdown",
   "id": "89a82f77",
   "metadata": {},
   "source": [
    "# Feature selection"
   ]
  },
  {
   "cell_type": "code",
   "execution_count": 34,
   "id": "3f775f91",
   "metadata": {},
   "outputs": [
    {
     "data": {
      "text/html": [
       "<div>\n",
       "<style scoped>\n",
       "    .dataframe tbody tr th:only-of-type {\n",
       "        vertical-align: middle;\n",
       "    }\n",
       "\n",
       "    .dataframe tbody tr th {\n",
       "        vertical-align: top;\n",
       "    }\n",
       "\n",
       "    .dataframe thead th {\n",
       "        text-align: right;\n",
       "    }\n",
       "</style>\n",
       "<table border=\"1\" class=\"dataframe\">\n",
       "  <thead>\n",
       "    <tr style=\"text-align: right;\">\n",
       "      <th></th>\n",
       "      <th>f8</th>\n",
       "      <th>f9</th>\n",
       "      <th>target</th>\n",
       "      <th>ticket_pday</th>\n",
       "      <th>ticket_pmonth</th>\n",
       "      <th>ticket_pyear</th>\n",
       "      <th>ticket_phour</th>\n",
       "      <th>ticket_pmin</th>\n",
       "      <th>journey_day</th>\n",
       "      <th>journey_month</th>\n",
       "      <th>journey_year</th>\n",
       "      <th>departure_hour</th>\n",
       "      <th>departure_min</th>\n",
       "      <th>arrival_hour</th>\n",
       "      <th>arrival_min</th>\n",
       "      <th>f6_alpha</th>\n",
       "      <th>f6_beta</th>\n",
       "      <th>f6_gamma</th>\n",
       "      <th>f6_omega</th>\n",
       "    </tr>\n",
       "  </thead>\n",
       "  <tbody>\n",
       "    <tr>\n",
       "      <th>3142237</th>\n",
       "      <td>20</td>\n",
       "      <td>1</td>\n",
       "      <td>10799</td>\n",
       "      <td>19</td>\n",
       "      <td>9</td>\n",
       "      <td>2021</td>\n",
       "      <td>7</td>\n",
       "      <td>45</td>\n",
       "      <td>23</td>\n",
       "      <td>9</td>\n",
       "      <td>2021</td>\n",
       "      <td>17</td>\n",
       "      <td>0</td>\n",
       "      <td>18</td>\n",
       "      <td>59</td>\n",
       "      <td>0</td>\n",
       "      <td>0</td>\n",
       "      <td>1</td>\n",
       "      <td>0</td>\n",
       "    </tr>\n",
       "    <tr>\n",
       "      <th>2379467</th>\n",
       "      <td>20</td>\n",
       "      <td>1</td>\n",
       "      <td>8890</td>\n",
       "      <td>14</td>\n",
       "      <td>9</td>\n",
       "      <td>2021</td>\n",
       "      <td>16</td>\n",
       "      <td>59</td>\n",
       "      <td>20</td>\n",
       "      <td>9</td>\n",
       "      <td>2021</td>\n",
       "      <td>4</td>\n",
       "      <td>0</td>\n",
       "      <td>6</td>\n",
       "      <td>0</td>\n",
       "      <td>1</td>\n",
       "      <td>0</td>\n",
       "      <td>0</td>\n",
       "      <td>0</td>\n",
       "    </tr>\n",
       "    <tr>\n",
       "      <th>2026694</th>\n",
       "      <td>20</td>\n",
       "      <td>1</td>\n",
       "      <td>12500</td>\n",
       "      <td>12</td>\n",
       "      <td>9</td>\n",
       "      <td>2021</td>\n",
       "      <td>17</td>\n",
       "      <td>46</td>\n",
       "      <td>19</td>\n",
       "      <td>9</td>\n",
       "      <td>2021</td>\n",
       "      <td>13</td>\n",
       "      <td>0</td>\n",
       "      <td>15</td>\n",
       "      <td>0</td>\n",
       "      <td>1</td>\n",
       "      <td>0</td>\n",
       "      <td>0</td>\n",
       "      <td>0</td>\n",
       "    </tr>\n",
       "    <tr>\n",
       "      <th>1974264</th>\n",
       "      <td>20</td>\n",
       "      <td>1</td>\n",
       "      <td>11504</td>\n",
       "      <td>12</td>\n",
       "      <td>9</td>\n",
       "      <td>2021</td>\n",
       "      <td>12</td>\n",
       "      <td>25</td>\n",
       "      <td>22</td>\n",
       "      <td>11</td>\n",
       "      <td>2021</td>\n",
       "      <td>4</td>\n",
       "      <td>40</td>\n",
       "      <td>6</td>\n",
       "      <td>40</td>\n",
       "      <td>0</td>\n",
       "      <td>0</td>\n",
       "      <td>0</td>\n",
       "      <td>1</td>\n",
       "    </tr>\n",
       "    <tr>\n",
       "      <th>2567209</th>\n",
       "      <td>20</td>\n",
       "      <td>1</td>\n",
       "      <td>8027</td>\n",
       "      <td>15</td>\n",
       "      <td>9</td>\n",
       "      <td>2021</td>\n",
       "      <td>17</td>\n",
       "      <td>55</td>\n",
       "      <td>25</td>\n",
       "      <td>9</td>\n",
       "      <td>2021</td>\n",
       "      <td>16</td>\n",
       "      <td>0</td>\n",
       "      <td>18</td>\n",
       "      <td>0</td>\n",
       "      <td>1</td>\n",
       "      <td>0</td>\n",
       "      <td>0</td>\n",
       "      <td>0</td>\n",
       "    </tr>\n",
       "  </tbody>\n",
       "</table>\n",
       "</div>"
      ],
      "text/plain": [
       "         f8  f9  target  ticket_pday  ticket_pmonth  ticket_pyear  \\\n",
       "3142237  20   1   10799           19              9          2021   \n",
       "2379467  20   1    8890           14              9          2021   \n",
       "2026694  20   1   12500           12              9          2021   \n",
       "1974264  20   1   11504           12              9          2021   \n",
       "2567209  20   1    8027           15              9          2021   \n",
       "\n",
       "         ticket_phour  ticket_pmin  journey_day  journey_month  journey_year  \\\n",
       "3142237             7           45           23              9          2021   \n",
       "2379467            16           59           20              9          2021   \n",
       "2026694            17           46           19              9          2021   \n",
       "1974264            12           25           22             11          2021   \n",
       "2567209            17           55           25              9          2021   \n",
       "\n",
       "         departure_hour  departure_min  arrival_hour  arrival_min  f6_alpha  \\\n",
       "3142237              17              0            18           59         0   \n",
       "2379467               4              0             6            0         1   \n",
       "2026694              13              0            15            0         1   \n",
       "1974264               4             40             6           40         0   \n",
       "2567209              16              0            18            0         1   \n",
       "\n",
       "         f6_beta  f6_gamma  f6_omega  \n",
       "3142237        0         1         0  \n",
       "2379467        0         0         0  \n",
       "2026694        0         0         0  \n",
       "1974264        0         0         1  \n",
       "2567209        0         0         0  "
      ]
     },
     "execution_count": 34,
     "metadata": {},
     "output_type": "execute_result"
    }
   ],
   "source": [
    "# taking sample of data for building model.\n",
    "df_sample = df.sample(n=100000)\n",
    "df_sample.head()"
   ]
  },
  {
   "cell_type": "code",
   "execution_count": 35,
   "id": "0ea82e2e",
   "metadata": {
    "scrolled": false
   },
   "outputs": [
    {
     "data": {
      "text/html": [
       "<div>\n",
       "<style scoped>\n",
       "    .dataframe tbody tr th:only-of-type {\n",
       "        vertical-align: middle;\n",
       "    }\n",
       "\n",
       "    .dataframe tbody tr th {\n",
       "        vertical-align: top;\n",
       "    }\n",
       "\n",
       "    .dataframe thead th {\n",
       "        text-align: right;\n",
       "    }\n",
       "</style>\n",
       "<table border=\"1\" class=\"dataframe\">\n",
       "  <thead>\n",
       "    <tr style=\"text-align: right;\">\n",
       "      <th></th>\n",
       "      <th>f8</th>\n",
       "      <th>f9</th>\n",
       "      <th>target</th>\n",
       "      <th>ticket_pday</th>\n",
       "      <th>ticket_pmonth</th>\n",
       "      <th>ticket_pyear</th>\n",
       "      <th>ticket_phour</th>\n",
       "      <th>ticket_pmin</th>\n",
       "      <th>journey_day</th>\n",
       "      <th>journey_month</th>\n",
       "      <th>journey_year</th>\n",
       "      <th>departure_hour</th>\n",
       "      <th>departure_min</th>\n",
       "      <th>arrival_hour</th>\n",
       "      <th>arrival_min</th>\n",
       "      <th>f6_alpha</th>\n",
       "      <th>f6_beta</th>\n",
       "      <th>f6_gamma</th>\n",
       "      <th>f6_omega</th>\n",
       "    </tr>\n",
       "  </thead>\n",
       "  <tbody>\n",
       "    <tr>\n",
       "      <th>0</th>\n",
       "      <td>40</td>\n",
       "      <td>0</td>\n",
       "      <td>7400</td>\n",
       "      <td>1</td>\n",
       "      <td>9</td>\n",
       "      <td>2021</td>\n",
       "      <td>8</td>\n",
       "      <td>30</td>\n",
       "      <td>8</td>\n",
       "      <td>9</td>\n",
       "      <td>2021</td>\n",
       "      <td>11</td>\n",
       "      <td>0</td>\n",
       "      <td>12</td>\n",
       "      <td>55</td>\n",
       "      <td>0</td>\n",
       "      <td>1</td>\n",
       "      <td>0</td>\n",
       "      <td>0</td>\n",
       "    </tr>\n",
       "    <tr>\n",
       "      <th>1</th>\n",
       "      <td>40</td>\n",
       "      <td>0</td>\n",
       "      <td>8650</td>\n",
       "      <td>1</td>\n",
       "      <td>9</td>\n",
       "      <td>2021</td>\n",
       "      <td>8</td>\n",
       "      <td>30</td>\n",
       "      <td>8</td>\n",
       "      <td>9</td>\n",
       "      <td>2021</td>\n",
       "      <td>14</td>\n",
       "      <td>0</td>\n",
       "      <td>15</td>\n",
       "      <td>55</td>\n",
       "      <td>0</td>\n",
       "      <td>1</td>\n",
       "      <td>0</td>\n",
       "      <td>0</td>\n",
       "    </tr>\n",
       "    <tr>\n",
       "      <th>2</th>\n",
       "      <td>20</td>\n",
       "      <td>0</td>\n",
       "      <td>9150</td>\n",
       "      <td>1</td>\n",
       "      <td>9</td>\n",
       "      <td>2021</td>\n",
       "      <td>8</td>\n",
       "      <td>30</td>\n",
       "      <td>8</td>\n",
       "      <td>9</td>\n",
       "      <td>2021</td>\n",
       "      <td>5</td>\n",
       "      <td>0</td>\n",
       "      <td>6</td>\n",
       "      <td>55</td>\n",
       "      <td>0</td>\n",
       "      <td>1</td>\n",
       "      <td>0</td>\n",
       "      <td>0</td>\n",
       "    </tr>\n",
       "    <tr>\n",
       "      <th>3</th>\n",
       "      <td>20</td>\n",
       "      <td>2</td>\n",
       "      <td>10400</td>\n",
       "      <td>1</td>\n",
       "      <td>9</td>\n",
       "      <td>2021</td>\n",
       "      <td>8</td>\n",
       "      <td>30</td>\n",
       "      <td>8</td>\n",
       "      <td>9</td>\n",
       "      <td>2021</td>\n",
       "      <td>5</td>\n",
       "      <td>30</td>\n",
       "      <td>7</td>\n",
       "      <td>30</td>\n",
       "      <td>0</td>\n",
       "      <td>0</td>\n",
       "      <td>1</td>\n",
       "      <td>0</td>\n",
       "    </tr>\n",
       "    <tr>\n",
       "      <th>4</th>\n",
       "      <td>20</td>\n",
       "      <td>1</td>\n",
       "      <td>8697</td>\n",
       "      <td>1</td>\n",
       "      <td>9</td>\n",
       "      <td>2021</td>\n",
       "      <td>8</td>\n",
       "      <td>30</td>\n",
       "      <td>8</td>\n",
       "      <td>9</td>\n",
       "      <td>2021</td>\n",
       "      <td>5</td>\n",
       "      <td>30</td>\n",
       "      <td>7</td>\n",
       "      <td>30</td>\n",
       "      <td>0</td>\n",
       "      <td>0</td>\n",
       "      <td>1</td>\n",
       "      <td>0</td>\n",
       "    </tr>\n",
       "  </tbody>\n",
       "</table>\n",
       "</div>"
      ],
      "text/plain": [
       "   f8  f9  target  ticket_pday  ticket_pmonth  ticket_pyear  ticket_phour  \\\n",
       "0  40   0    7400            1              9          2021             8   \n",
       "1  40   0    8650            1              9          2021             8   \n",
       "2  20   0    9150            1              9          2021             8   \n",
       "3  20   2   10400            1              9          2021             8   \n",
       "4  20   1    8697            1              9          2021             8   \n",
       "\n",
       "   ticket_pmin  journey_day  journey_month  journey_year  departure_hour  \\\n",
       "0           30            8              9          2021              11   \n",
       "1           30            8              9          2021              14   \n",
       "2           30            8              9          2021               5   \n",
       "3           30            8              9          2021               5   \n",
       "4           30            8              9          2021               5   \n",
       "\n",
       "   departure_min  arrival_hour  arrival_min  f6_alpha  f6_beta  f6_gamma  \\\n",
       "0              0            12           55         0        1         0   \n",
       "1              0            15           55         0        1         0   \n",
       "2              0             6           55         0        1         0   \n",
       "3             30             7           30         0        0         1   \n",
       "4             30             7           30         0        0         1   \n",
       "\n",
       "   f6_omega  \n",
       "0         0  \n",
       "1         0  \n",
       "2         0  \n",
       "3         0  \n",
       "4         0  "
      ]
     },
     "execution_count": 35,
     "metadata": {},
     "output_type": "execute_result"
    }
   ],
   "source": [
    "df.head()"
   ]
  },
  {
   "cell_type": "markdown",
   "id": "dfa6e4ed",
   "metadata": {},
   "source": [
    "Finding out the best feature which will contribute and have good relation with target variable. Following are some of the feature selection methods,\n",
    "\n",
    "1. **heatmap**\n",
    "2. **feature_importance_**\n",
    "3. **SelectKBest**"
   ]
  },
  {
   "cell_type": "code",
   "execution_count": 36,
   "id": "272b910f",
   "metadata": {},
   "outputs": [
    {
     "data": {
      "text/html": [
       "<div>\n",
       "<style scoped>\n",
       "    .dataframe tbody tr th:only-of-type {\n",
       "        vertical-align: middle;\n",
       "    }\n",
       "\n",
       "    .dataframe tbody tr th {\n",
       "        vertical-align: top;\n",
       "    }\n",
       "\n",
       "    .dataframe thead th {\n",
       "        text-align: right;\n",
       "    }\n",
       "</style>\n",
       "<table border=\"1\" class=\"dataframe\">\n",
       "  <thead>\n",
       "    <tr style=\"text-align: right;\">\n",
       "      <th></th>\n",
       "      <th>f8</th>\n",
       "      <th>f9</th>\n",
       "      <th>ticket_pday</th>\n",
       "      <th>ticket_pmonth</th>\n",
       "      <th>ticket_pyear</th>\n",
       "      <th>ticket_phour</th>\n",
       "      <th>ticket_pmin</th>\n",
       "      <th>journey_day</th>\n",
       "      <th>journey_month</th>\n",
       "      <th>journey_year</th>\n",
       "      <th>departure_hour</th>\n",
       "      <th>departure_min</th>\n",
       "      <th>arrival_hour</th>\n",
       "      <th>arrival_min</th>\n",
       "      <th>f6_alpha</th>\n",
       "      <th>f6_beta</th>\n",
       "      <th>f6_gamma</th>\n",
       "      <th>f6_omega</th>\n",
       "    </tr>\n",
       "  </thead>\n",
       "  <tbody>\n",
       "    <tr>\n",
       "      <th>3142237</th>\n",
       "      <td>20</td>\n",
       "      <td>1</td>\n",
       "      <td>19</td>\n",
       "      <td>9</td>\n",
       "      <td>2021</td>\n",
       "      <td>7</td>\n",
       "      <td>45</td>\n",
       "      <td>23</td>\n",
       "      <td>9</td>\n",
       "      <td>2021</td>\n",
       "      <td>17</td>\n",
       "      <td>0</td>\n",
       "      <td>18</td>\n",
       "      <td>59</td>\n",
       "      <td>0</td>\n",
       "      <td>0</td>\n",
       "      <td>1</td>\n",
       "      <td>0</td>\n",
       "    </tr>\n",
       "    <tr>\n",
       "      <th>2379467</th>\n",
       "      <td>20</td>\n",
       "      <td>1</td>\n",
       "      <td>14</td>\n",
       "      <td>9</td>\n",
       "      <td>2021</td>\n",
       "      <td>16</td>\n",
       "      <td>59</td>\n",
       "      <td>20</td>\n",
       "      <td>9</td>\n",
       "      <td>2021</td>\n",
       "      <td>4</td>\n",
       "      <td>0</td>\n",
       "      <td>6</td>\n",
       "      <td>0</td>\n",
       "      <td>1</td>\n",
       "      <td>0</td>\n",
       "      <td>0</td>\n",
       "      <td>0</td>\n",
       "    </tr>\n",
       "    <tr>\n",
       "      <th>2026694</th>\n",
       "      <td>20</td>\n",
       "      <td>1</td>\n",
       "      <td>12</td>\n",
       "      <td>9</td>\n",
       "      <td>2021</td>\n",
       "      <td>17</td>\n",
       "      <td>46</td>\n",
       "      <td>19</td>\n",
       "      <td>9</td>\n",
       "      <td>2021</td>\n",
       "      <td>13</td>\n",
       "      <td>0</td>\n",
       "      <td>15</td>\n",
       "      <td>0</td>\n",
       "      <td>1</td>\n",
       "      <td>0</td>\n",
       "      <td>0</td>\n",
       "      <td>0</td>\n",
       "    </tr>\n",
       "    <tr>\n",
       "      <th>1974264</th>\n",
       "      <td>20</td>\n",
       "      <td>1</td>\n",
       "      <td>12</td>\n",
       "      <td>9</td>\n",
       "      <td>2021</td>\n",
       "      <td>12</td>\n",
       "      <td>25</td>\n",
       "      <td>22</td>\n",
       "      <td>11</td>\n",
       "      <td>2021</td>\n",
       "      <td>4</td>\n",
       "      <td>40</td>\n",
       "      <td>6</td>\n",
       "      <td>40</td>\n",
       "      <td>0</td>\n",
       "      <td>0</td>\n",
       "      <td>0</td>\n",
       "      <td>1</td>\n",
       "    </tr>\n",
       "    <tr>\n",
       "      <th>2567209</th>\n",
       "      <td>20</td>\n",
       "      <td>1</td>\n",
       "      <td>15</td>\n",
       "      <td>9</td>\n",
       "      <td>2021</td>\n",
       "      <td>17</td>\n",
       "      <td>55</td>\n",
       "      <td>25</td>\n",
       "      <td>9</td>\n",
       "      <td>2021</td>\n",
       "      <td>16</td>\n",
       "      <td>0</td>\n",
       "      <td>18</td>\n",
       "      <td>0</td>\n",
       "      <td>1</td>\n",
       "      <td>0</td>\n",
       "      <td>0</td>\n",
       "      <td>0</td>\n",
       "    </tr>\n",
       "  </tbody>\n",
       "</table>\n",
       "</div>"
      ],
      "text/plain": [
       "         f8  f9  ticket_pday  ticket_pmonth  ticket_pyear  ticket_phour  \\\n",
       "3142237  20   1           19              9          2021             7   \n",
       "2379467  20   1           14              9          2021            16   \n",
       "2026694  20   1           12              9          2021            17   \n",
       "1974264  20   1           12              9          2021            12   \n",
       "2567209  20   1           15              9          2021            17   \n",
       "\n",
       "         ticket_pmin  journey_day  journey_month  journey_year  \\\n",
       "3142237           45           23              9          2021   \n",
       "2379467           59           20              9          2021   \n",
       "2026694           46           19              9          2021   \n",
       "1974264           25           22             11          2021   \n",
       "2567209           55           25              9          2021   \n",
       "\n",
       "         departure_hour  departure_min  arrival_hour  arrival_min  f6_alpha  \\\n",
       "3142237              17              0            18           59         0   \n",
       "2379467               4              0             6            0         1   \n",
       "2026694              13              0            15            0         1   \n",
       "1974264               4             40             6           40         0   \n",
       "2567209              16              0            18            0         1   \n",
       "\n",
       "         f6_beta  f6_gamma  f6_omega  \n",
       "3142237        0         1         0  \n",
       "2379467        0         0         0  \n",
       "2026694        0         0         0  \n",
       "1974264        0         0         1  \n",
       "2567209        0         0         0  "
      ]
     },
     "execution_count": 36,
     "metadata": {},
     "output_type": "execute_result"
    }
   ],
   "source": [
    "# extracting X feature dataset \n",
    "X = df_sample.loc[:, ['f8', 'f9', 'ticket_pday', 'ticket_pmonth',\n",
    "       'ticket_pyear', 'ticket_phour', 'ticket_pmin', 'journey_day',\n",
    "       'journey_month', 'journey_year', 'departure_hour', 'departure_min',\n",
    "       'arrival_hour', 'arrival_min', 'f6_alpha', 'f6_beta', 'f6_gamma', 'f6_omega']]\n",
    "X.head()"
   ]
  },
  {
   "cell_type": "code",
   "execution_count": 37,
   "id": "bf73d478",
   "metadata": {},
   "outputs": [
    {
     "data": {
      "text/plain": [
       "(100000, 18)"
      ]
     },
     "execution_count": 37,
     "metadata": {},
     "output_type": "execute_result"
    }
   ],
   "source": [
    "X.shape"
   ]
  },
  {
   "cell_type": "code",
   "execution_count": 38,
   "id": "fafe8f2c",
   "metadata": {},
   "outputs": [
    {
     "data": {
      "text/plain": [
       "3142237    10799\n",
       "2379467     8890\n",
       "2026694    12500\n",
       "1974264    11504\n",
       "2567209     8027\n",
       "Name: target, dtype: int16"
      ]
     },
     "execution_count": 38,
     "metadata": {},
     "output_type": "execute_result"
    }
   ],
   "source": [
    "# extracting Y target dataset \n",
    "y = df_sample.iloc[:, 2]\n",
    "y.head()"
   ]
  },
  {
   "cell_type": "code",
   "execution_count": 39,
   "id": "a12b3c5f",
   "metadata": {},
   "outputs": [
    {
     "data": {
      "text/plain": [
       "(100000,)"
      ]
     },
     "execution_count": 39,
     "metadata": {},
     "output_type": "execute_result"
    }
   ],
   "source": [
    "y.shape"
   ]
  },
  {
   "cell_type": "code",
   "execution_count": 40,
   "id": "c64bd955",
   "metadata": {},
   "outputs": [
    {
     "data": {
      "image/png": "[encoded data removed]",
      "text/plain": [
       "<Figure size 2016x2016 with 2 Axes>"
      ]
     },
     "metadata": {
      "needs_background": "light"
     },
     "output_type": "display_data"
    }
   ],
   "source": [
    "# Finds correlation between Independent and dependent attributes from complete dataset\n",
    " \n",
    "plt.figure(figsize = (28,28))\n",
    "sns.heatmap(df.corr(), annot = True, cmap = \"RdYlGn\")\n",
    "\n",
    "plt.show()\n"
   ]
  },
  {
   "cell_type": "code",
   "execution_count": 41,
   "id": "5a2c261f",
   "metadata": {},
   "outputs": [
    {
     "data": {
      "image/png": "[encoded data removed]",
      "text/plain": [
       "<Figure size 2016x2016 with 2 Axes>"
      ]
     },
     "metadata": {
      "needs_background": "light"
     },
     "output_type": "display_data"
    }
   ],
   "source": [
    "# Finds correlation between Independent and dependent attributes from sample dataset\n",
    "\n",
    "plt.figure(figsize = (28,28))\n",
    "sns.heatmap(df_sample.corr(), annot = True, cmap = \"RdYlGn\")\n",
    "\n",
    "plt.show()"
   ]
  },
  {
   "cell_type": "code",
   "execution_count": 42,
   "id": "31e30425",
   "metadata": {},
   "outputs": [
    {
     "data": {
      "text/plain": [
       "ExtraTreesRegressor()"
      ]
     },
     "execution_count": 42,
     "metadata": {},
     "output_type": "execute_result"
    }
   ],
   "source": [
    "# Important feature using ExtraTreesRegressor\n",
    "\n",
    "from sklearn.ensemble import ExtraTreesRegressor\n",
    "selection = ExtraTreesRegressor()\n",
    "selection.fit(X, y)"
   ]
  },
  {
   "cell_type": "code",
   "execution_count": 43,
   "id": "e2ce5369",
   "metadata": {},
   "outputs": [
    {
     "name": "stdout",
     "output_type": "stream",
     "text": [
      "[0.01720203 0.01422031 0.37491689 0.         0.         0.1654285\n",
      " 0.16641816 0.13243872 0.03535067 0.00147162 0.02660627 0.00938987\n",
      " 0.02663183 0.01196714 0.00539228 0.00290362 0.00539495 0.00426713]\n"
     ]
    }
   ],
   "source": [
    "print(selection.feature_importances_)"
   ]
  },
  {
   "cell_type": "code",
   "execution_count": 44,
   "id": "6b34e631",
   "metadata": {},
   "outputs": [
    {
     "data": {
      "image/png": "[encoded data removed]",
      "text/plain": [
       "<Figure size 1080x720 with 1 Axes>"
      ]
     },
     "metadata": {
      "needs_background": "light"
     },
     "output_type": "display_data"
    }
   ],
   "source": [
    "#plot graph of feature importances for better visualization\n",
    "\n",
    "plt.figure(figsize = (15,10))\n",
    "feat_importances = pd.Series(selection.feature_importances_, index=X.columns)\n",
    "feat_importances.nlargest(22).plot(kind='barh')\n",
    "plt.show()"
   ]
  },
  {
   "cell_type": "markdown",
   "id": "a0fc90c0",
   "metadata": {},
   "source": [
    "This shows that ticket purchase day is the most important feature of all. Other important features are ticket purchase minute, hour and jounrey day. Rest have very little to no relevance with respect to ticket price."
   ]
  },
  {
   "cell_type": "markdown",
   "id": "09970dd2",
   "metadata": {},
   "source": [
    "### Fitting model using Random Forest\n",
    "1. Split dataset into train and test set in order to prediction w.r.t X_test\n",
    "2. If needed do scaling of data\n",
    "3. Scaling is not done in Random forest\n",
    "4. Import model\n",
    "5. Fit the data\n",
    "6. Predict w.r.t X_test\n",
    "7. In regression check RSME Score\n",
    "8. Plot graph"
   ]
  },
  {
   "cell_type": "code",
   "execution_count": 45,
   "id": "2126588b",
   "metadata": {},
   "outputs": [],
   "source": [
    "# splitting into train and test dataset\n",
    "from sklearn.model_selection import train_test_split\n",
    "X_train, X_test, y_train, y_test = train_test_split(X, y, test_size = 0.2, random_state = 1)\n"
   ]
  },
  {
   "cell_type": "code",
   "execution_count": 46,
   "id": "4fa0b70c",
   "metadata": {},
   "outputs": [
    {
     "data": {
      "text/plain": [
       "RandomForestRegressor()"
      ]
     },
     "execution_count": 46,
     "metadata": {},
     "output_type": "execute_result"
    }
   ],
   "source": [
    "# importing library, creating and fitting model for training data\n",
    "from sklearn.ensemble import RandomForestRegressor\n",
    "reg_rf = RandomForestRegressor()\n",
    "reg_rf.fit(X_train, y_train)"
   ]
  },
  {
   "cell_type": "code",
   "execution_count": 47,
   "id": "434f6f1a",
   "metadata": {},
   "outputs": [
    {
     "data": {
      "text/plain": [
       "(array([10480.51,  9480.53,  9865.88, ..., 10178.93, 12530.97, 11053.21]),\n",
       " 3257074     9030\n",
       " 1228575     8739\n",
       " 3093538    10799\n",
       " 2272511    12500\n",
       " 1980160    11504\n",
       "            ...  \n",
       " 58547      10227\n",
       " 1488088     9799\n",
       " 4218868     9798\n",
       " 1756301    11452\n",
       " 3196129    10799\n",
       " Name: target, Length: 20000, dtype: int16)"
      ]
     },
     "execution_count": 47,
     "metadata": {},
     "output_type": "execute_result"
    }
   ],
   "source": [
    "# predicting price for the testing data\n",
    "y_pred = reg_rf.predict(X_test)\n",
    "y_pred, y_test"
   ]
  },
  {
   "cell_type": "code",
   "execution_count": 48,
   "id": "93adda70",
   "metadata": {},
   "outputs": [
    {
     "data": {
      "text/plain": [
       "0.9095920396919421"
      ]
     },
     "execution_count": 48,
     "metadata": {},
     "output_type": "execute_result"
    }
   ],
   "source": [
    "# calculating random forest regression score for training data\n",
    "reg_rf.score(X_train, y_train)"
   ]
  },
  {
   "cell_type": "code",
   "execution_count": 49,
   "id": "ffcd5b9e",
   "metadata": {},
   "outputs": [
    {
     "data": {
      "text/plain": [
       "0.3562503961949063"
      ]
     },
     "execution_count": 49,
     "metadata": {},
     "output_type": "execute_result"
    }
   ],
   "source": [
    "# calculating random forest regression score for test data\n",
    "reg_rf.score(X_test, y_test)\n"
   ]
  },
  {
   "cell_type": "code",
   "execution_count": 50,
   "id": "7231103b",
   "metadata": {},
   "outputs": [
    {
     "name": "stderr",
     "output_type": "stream",
     "text": [
      "C:\\Users\\jackay.lohano\\Anaconda3\\lib\\site-packages\\seaborn\\distributions.py:2557: FutureWarning: `distplot` is a deprecated function and will be removed in a future version. Please adapt your code to use either `displot` (a figure-level function with similar flexibility) or `histplot` (an axes-level function for histograms).\n",
      "  warnings.warn(msg, FutureWarning)\n"
     ]
    },
    {
     "data": {
      "image/png": "[encoded data removed]",
      "text/plain": [
       "<Figure size 432x288 with 1 Axes>"
      ]
     },
     "metadata": {
      "needs_background": "light"
     },
     "output_type": "display_data"
    }
   ],
   "source": [
    "sns.distplot(y_test-y_pred)\n",
    "plt.show()"
   ]
  },
  {
   "cell_type": "code",
   "execution_count": 51,
   "id": "4deaf26b",
   "metadata": {},
   "outputs": [
    {
     "data": {
      "image/png": "[encoded data removed]",
      "text/plain": [
       "<Figure size 432x288 with 1 Axes>"
      ]
     },
     "metadata": {
      "needs_background": "light"
     },
     "output_type": "display_data"
    }
   ],
   "source": [
    "plt.scatter(y_test, y_pred, alpha = 0.5)\n",
    "plt.xlabel(\"y_test\")\n",
    "plt.xlabel(\"y_pred\")\n",
    "plt.show()"
   ]
  },
  {
   "cell_type": "code",
   "execution_count": 52,
   "id": "1b543246",
   "metadata": {},
   "outputs": [],
   "source": [
    "from sklearn import metrics"
   ]
  },
  {
   "cell_type": "code",
   "execution_count": 53,
   "id": "0ac6aca4",
   "metadata": {},
   "outputs": [
    {
     "name": "stdout",
     "output_type": "stream",
     "text": [
      "MAE: 948.6508713392858\n",
      "MSE: 2214779.4804356927\n",
      "RMSE: 1488.2135197731852\n"
     ]
    }
   ],
   "source": [
    "print('MAE:', metrics.mean_absolute_error(y_test, y_pred))\n",
    "print('MSE:', metrics.mean_squared_error(y_test, y_pred))\n",
    "print('RMSE:', np.sqrt(metrics.mean_squared_error(y_test, y_pred)))"
   ]
  },
  {
   "cell_type": "code",
   "execution_count": 58,
   "id": "5953c0af",
   "metadata": {},
   "outputs": [
    {
     "name": "stdout",
     "output_type": "stream",
     "text": [
      "R2 score: 0.3562503961949063\n"
     ]
    }
   ],
   "source": [
    "print(\"R2 score:\", metrics.r2_score(y_test, y_pred))"
   ]
  },
  {
   "cell_type": "code",
   "execution_count": null,
   "id": "3c331b05",
   "metadata": {},
   "outputs": [],
   "source": []
  },
  {
   "cell_type": "markdown",
   "id": "595ca197",
   "metadata": {},
   "source": [
    "### Saving prediction file with one column without header"
   ]
  },
  {
   "cell_type": "code",
   "execution_count": 60,
   "id": "c62fd7ea",
   "metadata": {},
   "outputs": [
    {
     "data": {
      "text/plain": [
       "numpy.ndarray"
      ]
     },
     "execution_count": 60,
     "metadata": {},
     "output_type": "execute_result"
    }
   ],
   "source": [
    "type(y_pred)"
   ]
  },
  {
   "cell_type": "code",
   "execution_count": 61,
   "id": "e570c6ef",
   "metadata": {},
   "outputs": [],
   "source": [
    "df_pred = pd.DataFrame(y_pred)"
   ]
  },
  {
   "cell_type": "code",
   "execution_count": 62,
   "id": "62e41f57",
   "metadata": {},
   "outputs": [
    {
     "data": {
      "text/plain": [
       "pandas.core.frame.DataFrame"
      ]
     },
     "execution_count": 62,
     "metadata": {},
     "output_type": "execute_result"
    }
   ],
   "source": [
    "type(df_pred)"
   ]
  },
  {
   "cell_type": "code",
   "execution_count": 63,
   "id": "22619259",
   "metadata": {},
   "outputs": [
    {
     "data": {
      "text/plain": [
       "(20000, 1)"
      ]
     },
     "execution_count": 63,
     "metadata": {},
     "output_type": "execute_result"
    }
   ],
   "source": [
    "df_pred.shape"
   ]
  },
  {
   "cell_type": "code",
   "execution_count": 64,
   "id": "5798df6e",
   "metadata": {},
   "outputs": [
    {
     "name": "stdout",
     "output_type": "stream",
     "text": [
      "<class 'pandas.core.frame.DataFrame'>\n",
      "RangeIndex: 20000 entries, 0 to 19999\n",
      "Data columns (total 1 columns):\n",
      " #   Column  Non-Null Count  Dtype  \n",
      "---  ------  --------------  -----  \n",
      " 0   0       20000 non-null  float64\n",
      "dtypes: float64(1)\n",
      "memory usage: 156.4 KB\n"
     ]
    }
   ],
   "source": [
    "df_pred.info()"
   ]
  },
  {
   "cell_type": "code",
   "execution_count": 66,
   "id": "a43107ab",
   "metadata": {},
   "outputs": [
    {
     "data": {
      "text/html": [
       "<div>\n",
       "<style scoped>\n",
       "    .dataframe tbody tr th:only-of-type {\n",
       "        vertical-align: middle;\n",
       "    }\n",
       "\n",
       "    .dataframe tbody tr th {\n",
       "        vertical-align: top;\n",
       "    }\n",
       "\n",
       "    .dataframe thead th {\n",
       "        text-align: right;\n",
       "    }\n",
       "</style>\n",
       "<table border=\"1\" class=\"dataframe\">\n",
       "  <thead>\n",
       "    <tr style=\"text-align: right;\">\n",
       "      <th></th>\n",
       "      <th>0</th>\n",
       "    </tr>\n",
       "  </thead>\n",
       "  <tbody>\n",
       "    <tr>\n",
       "      <th>19995</th>\n",
       "      <td>9589.42</td>\n",
       "    </tr>\n",
       "    <tr>\n",
       "      <th>19996</th>\n",
       "      <td>9957.65</td>\n",
       "    </tr>\n",
       "    <tr>\n",
       "      <th>19997</th>\n",
       "      <td>10178.93</td>\n",
       "    </tr>\n",
       "    <tr>\n",
       "      <th>19998</th>\n",
       "      <td>12530.97</td>\n",
       "    </tr>\n",
       "    <tr>\n",
       "      <th>19999</th>\n",
       "      <td>11053.21</td>\n",
       "    </tr>\n",
       "  </tbody>\n",
       "</table>\n",
       "</div>"
      ],
      "text/plain": [
       "              0\n",
       "19995   9589.42\n",
       "19996   9957.65\n",
       "19997  10178.93\n",
       "19998  12530.97\n",
       "19999  11053.21"
      ]
     },
     "execution_count": 66,
     "metadata": {},
     "output_type": "execute_result"
    }
   ],
   "source": [
    "df_pred.tail()"
   ]
  },
  {
   "cell_type": "code",
   "execution_count": 70,
   "id": "34cf542e",
   "metadata": {},
   "outputs": [],
   "source": [
    "predicted_file = df_pred.to_csv(\"pred_file.csv\", index=False, header=False)"
   ]
  },
  {
   "cell_type": "code",
   "execution_count": null,
   "id": "b8dd2e30",
   "metadata": {},
   "outputs": [],
   "source": []
  }
 ],
 "metadata": {
  "kernelspec": {
   "display_name": "Python 3 (ipykernel)",
   "language": "python",
   "name": "python3"
  },
  "language_info": {
   "codemirror_mode": {
    "name": "ipython",
    "version": 3
   },
   "file_extension": ".py",
   "mimetype": "text/x-python",
   "name": "python",
   "nbconvert_exporter": "python",
   "pygments_lexer": "ipython3",
   "version": "3.9.7"
  }
 },
 "nbformat": 4,
 "nbformat_minor": 5
}
